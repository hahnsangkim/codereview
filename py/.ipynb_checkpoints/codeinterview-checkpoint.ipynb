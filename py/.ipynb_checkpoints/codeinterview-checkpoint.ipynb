{
 "cells": [
  {
   "cell_type": "markdown",
   "metadata": {},
   "source": [
    "# reversestring\n",
    "Given a string, return a new string with the reversed\n",
    "\n",
    "Examples\n",
    "* reverse('apple') === 'leppa'\n",
    "* reverse('hello') === 'olleh'\n",
    "* reverse('Greetings!') === '!sgniteerG'"
   ]
  },
  {
   "cell_type": "code",
   "execution_count": 14,
   "metadata": {},
   "outputs": [],
   "source": [
    "def reverse(string):\n",
    "    rev_string =''\n",
    "    for i in range(len(string)-1,-1,-1):\n",
    "        rev_string += string[i]\n",
    "    return rev_string"
   ]
  },
  {
   "cell_type": "code",
   "execution_count": 18,
   "metadata": {},
   "outputs": [
    {
     "name": "stdout",
     "output_type": "stream",
     "text": [
      "elppa\n",
      "olleh\n",
      "!sgniteerG\n"
     ]
    }
   ],
   "source": [
    "print(reverse('apple'))\n",
    "print(reverse('hello'))\n",
    "print(reverse('Greetings!'))"
   ]
  },
  {
   "cell_type": "markdown",
   "metadata": {},
   "source": [
    "# palindrome\n",
    "\n",
    "Given a string, return true if the string is a palindrome\n",
    "or false if it is not.  Palindromes are strings that\n",
    "form the same word if it is reversed. *Do* include spaces\n",
    "and punctuation in determining if the string is a palindrome.\n",
    "\n",
    "Examples:\n",
    "* palindrome(\"abba\") === true\n",
    "* palindrome(\"abcdefg\") === false"
   ]
  },
  {
   "cell_type": "code",
   "execution_count": 19,
   "metadata": {},
   "outputs": [],
   "source": [
    "def palindrome(string):\n",
    "    rev_string = reverse(string)\n",
    "    if rev_string == string:\n",
    "        return True\n",
    "    else:\n",
    "        return False"
   ]
  },
  {
   "cell_type": "code",
   "execution_count": 20,
   "metadata": {},
   "outputs": [
    {
     "name": "stdout",
     "output_type": "stream",
     "text": [
      "passed\n",
      "passed\n"
     ]
    }
   ],
   "source": [
    "assert palindrome(\"abba\") == True, print('failed')\n",
    "print('passed')\n",
    "assert palindrome(\"abcdefg\") == False, print('failed')\n",
    "print('passed')"
   ]
  },
  {
   "cell_type": "markdown",
   "metadata": {},
   "source": [
    "# reverseint\n",
    "\n",
    "Given an integer, return an integer that is the reverse\n",
    "\n",
    "Examples\n",
    "* reverseInt(15) === 51\n",
    "* reverseInt(981) === 189\n",
    "* reverseInt(500) === 5\n",
    "* reverseInt(-15) === -51\n",
    "* reverseInt(-90) === -9"
   ]
  },
  {
   "cell_type": "code",
   "execution_count": 31,
   "metadata": {},
   "outputs": [],
   "source": [
    "def reverseInt(integer):\n",
    "    sign = 1\n",
    "    if integer < 0:\n",
    "        sign *= -1\n",
    "        integer = sign * integer\n",
    "    int_str = str(integer)\n",
    "    rev_int_str = reverse(int_str)\n",
    "    return sign * int(rev_int_str)"
   ]
  },
  {
   "cell_type": "code",
   "execution_count": 32,
   "metadata": {},
   "outputs": [
    {
     "data": {
      "text/plain": [
       "51"
      ]
     },
     "execution_count": 32,
     "metadata": {},
     "output_type": "execute_result"
    }
   ],
   "source": [
    "reverseInt(15)"
   ]
  },
  {
   "cell_type": "code",
   "execution_count": 33,
   "metadata": {},
   "outputs": [
    {
     "name": "stdout",
     "output_type": "stream",
     "text": [
      "passed\n"
     ]
    }
   ],
   "source": [
    "assert reverseInt(15) == 51, print('failed')\n",
    "assert reverseInt(981) == 189, print('failed')\n",
    "assert reverseInt(500) == 5, print('failed')\n",
    "assert reverseInt(-15) == -51, print('failed')\n",
    "assert reverseInt(-90) == -9, print('failed')\n",
    "print('passed')"
   ]
  },
  {
   "cell_type": "markdown",
   "metadata": {},
   "source": [
    "# maxchar\n",
    "\n",
    "Given a string, return the character that is most\n",
    "commonly used in the string.\n",
    "\n",
    "--- Examples\n",
    "* maxChar(\"abcccccccd\") === \"c\"\n",
    "* maxChar(\"apple 1231111\") === \"1\""
   ]
  },
  {
   "cell_type": "code",
   "execution_count": 38,
   "metadata": {},
   "outputs": [],
   "source": [
    "def maxChar(string):\n",
    "    arr = list(string)\n",
    "    unique = set(arr)\n",
    "    max_e = ''\n",
    "    max_c = 0\n",
    "    for e in unique:\n",
    "        char_c = 0\n",
    "        for i in range(len(arr)):\n",
    "            if e == arr[i]:\n",
    "                char_c += 1\n",
    "        if char_c > max_c:\n",
    "            max_c = char_c\n",
    "            max_e = e\n",
    "            \n",
    "    return max_e"
   ]
  },
  {
   "cell_type": "code",
   "execution_count": 48,
   "metadata": {},
   "outputs": [],
   "source": [
    "from collections import defaultdict\n",
    "def maxChar2(string):\n",
    "    count_dic = defaultdict(int)\n",
    "    for c in list(string):\n",
    "        count_dic[c] += 1\n",
    "    return max(count_dic, key=count_dic.get)"
   ]
  },
  {
   "cell_type": "code",
   "execution_count": 49,
   "metadata": {},
   "outputs": [
    {
     "name": "stdout",
     "output_type": "stream",
     "text": [
      "passed\n"
     ]
    }
   ],
   "source": [
    "assert maxChar2('abccccccd') == 'c', print('failed')\n",
    "assert maxChar2('apple 1231111') == '1', print('failed')\n",
    "print('passed')"
   ]
  },
  {
   "cell_type": "markdown",
   "metadata": {},
   "source": [
    "# fizzbuzz\n",
    "\n",
    "Write a program that console logs the numbers\n",
    "from 1 to n. But for multiples of three print\n",
    "“fizz” instead of the number and for the multiples\n",
    "of five print “buzz”. For numbers which are multiples\n",
    "of both three and five print “fizzbuzz”.\n",
    "\n",
    "--- Example\n",
    "  fizzBuzz(5);\n",
    "  \n",
    "  1\n",
    "  \n",
    "  2\n",
    "  \n",
    "  fizz\n",
    "  \n",
    "  4\n",
    "  \n",
    "  buzz"
   ]
  },
  {
   "cell_type": "code",
   "execution_count": 59,
   "metadata": {},
   "outputs": [],
   "source": [
    "def fizzbuzz(integer):\n",
    "    for i in range(1,integer+1):\n",
    "        if (i % 15) == 0:\n",
    "            print('fizzbuzz')\n",
    "        elif (i % 3) == 0:\n",
    "            print('fizz')\n",
    "        elif (i % 5) == 0:\n",
    "            print('buzz')\n",
    "        else:\n",
    "            print(i)"
   ]
  },
  {
   "cell_type": "code",
   "execution_count": 61,
   "metadata": {},
   "outputs": [
    {
     "name": "stdout",
     "output_type": "stream",
     "text": [
      "1\n",
      "2\n",
      "fizz\n",
      "4\n",
      "buzz\n",
      "fizz\n",
      "7\n",
      "8\n",
      "fizz\n",
      "buzz\n",
      "11\n",
      "fizz\n",
      "13\n",
      "14\n",
      "fizzbuzz\n"
     ]
    }
   ],
   "source": [
    "fizzbuzz(15)"
   ]
  },
  {
   "cell_type": "markdown",
   "metadata": {},
   "source": [
    "# chunk\n",
    "\n",
    "Given an array and chunk size, divide the array into many subarrays\n",
    "where each subarray is of length size\n",
    "\n",
    "--- Examples\n",
    "* chunk([1, 2, 3, 4], 2) --> [[ 1, 2], [3, 4]]\n",
    "* chunk([1, 2, 3, 4, 5], 2) --> [[ 1, 2], [3, 4], [5]]\n",
    "* chunk([1, 2, 3, 4, 5, 6, 7, 8], 3) --> [[ 1, 2, 3], [4, 5, 6], [7, 8]]\n",
    "* chunk([1, 2, 3, 4, 5], 4) --> [[ 1, 2, 3, 4], [5]]\n",
    "* chunk([1, 2, 3, 4, 5], 10) --> [[ 1, 2, 3, 4, 5]]"
   ]
  },
  {
   "cell_type": "code",
   "execution_count": 62,
   "metadata": {},
   "outputs": [],
   "source": [
    "def chunk(arr, num):\n",
    "    arrlist = []\n",
    "    for i in range(0,len(arr),num):\n",
    "        arrlist.append(arr[i:i+num])\n",
    "    return arrlist"
   ]
  },
  {
   "cell_type": "code",
   "execution_count": 64,
   "metadata": {},
   "outputs": [
    {
     "name": "stdout",
     "output_type": "stream",
     "text": [
      "passed\n"
     ]
    }
   ],
   "source": [
    "assert chunk([1, 2, 3, 4], 2) == [[ 1, 2], [3, 4]], print('failed')\n",
    "assert chunk([1, 2, 3, 4, 5], 2) == [[ 1, 2], [3, 4], [5]], print('failed')\n",
    "assert chunk([1, 2, 3, 4, 5, 6, 7, 8], 3) == [[ 1, 2, 3], [4, 5, 6], [7, 8]], print('failed')\n",
    "assert chunk([1, 2, 3, 4, 5], 4) == [[ 1, 2, 3, 4], [5]], print('failed')\n",
    "assert chunk([1, 2, 3, 4, 5], 10) == [[ 1, 2, 3, 4, 5]], print('failed')\n",
    "print('passed')"
   ]
  },
  {
   "cell_type": "markdown",
   "metadata": {},
   "source": [
    "# anagrams\n",
    "Check to see if two provided strings are anagrams of eachother.\n",
    "One string is an anagram of another if it uses the same characters\n",
    "in the same quantity. Only consider characters, not spaces\n",
    "or punctuation.  Consider capital letters to be the same as lower case\n",
    "\n",
    "--- Examples\n",
    "* anagrams('rail safety', 'fairy tales') --> True\n",
    "* anagrams('RAIL! SAFETY!', 'fairy tales') --> True\n",
    "* anagrams('Hi there', 'Bye there') --> False"
   ]
  },
  {
   "cell_type": "code",
   "execution_count": 16,
   "metadata": {},
   "outputs": [],
   "source": [
    "def make_bow(string):\n",
    "    from collections import defaultdict\n",
    "    count_dic = defaultdict(int)\n",
    "    for c in list(string):\n",
    "        count_dic[c] += 1\n",
    "    return count_dic"
   ]
  },
  {
   "cell_type": "code",
   "execution_count": 19,
   "metadata": {},
   "outputs": [],
   "source": [
    "def anagrams(str1, str2):\n",
    "    import re\n",
    "    mystr1 = re.sub('[^\\w \\n\\.]', '', str1).lower()\n",
    "    mystr2 = re.sub('[^\\w \\n\\./g]', '', str2).lower()\n",
    "    bow1 = make_bow(mystr1)\n",
    "    bow2 = make_bow(mystr2)\n",
    "    return bow1 == bow2"
   ]
  },
  {
   "cell_type": "code",
   "execution_count": 21,
   "metadata": {},
   "outputs": [
    {
     "name": "stdout",
     "output_type": "stream",
     "text": [
      "passed\n"
     ]
    }
   ],
   "source": [
    "assert anagrams('rail safety', 'fairy tales') == True, print('failed')\n",
    "assert anagrams('RAIL! SAFETY!', 'fairy tales') == True, print('failed')\n",
    "assert anagrams('Hi there', 'Bye there') == False, print('failed')\n",
    "print('passed')"
   ]
  },
  {
   "cell_type": "markdown",
   "metadata": {},
   "source": [
    "# capitalize\n",
    "\n",
    "Write a function that accepts a string.  The function should\n",
    "capitalize the first letter of each word in the string then\n",
    "return the capitalized string.\n",
    "\n",
    "--- Examples\n",
    "* capitalize('a short sentence') --> 'A Short Sentence'\n",
    "* capitalize('a lazy fox') --> 'A Lazy Fox'\n",
    "* capitalize('look, it is working!') --> 'Look, It Is Working!'\n"
   ]
  },
  {
   "cell_type": "code",
   "execution_count": 28,
   "metadata": {},
   "outputs": [],
   "source": [
    "def capitalize(string):\n",
    "    strings = string.split(' ')\n",
    "    result = ''\n",
    "    for inx, st in enumerate(strings):\n",
    "        result = result + st[0].upper() + st[1:] + ' '\n",
    "    return result[:-1]"
   ]
  },
  {
   "cell_type": "code",
   "execution_count": 30,
   "metadata": {},
   "outputs": [
    {
     "name": "stdout",
     "output_type": "stream",
     "text": [
      "passed\n"
     ]
    }
   ],
   "source": [
    "assert capitalize('a short sentence') == 'A Short Sentence', print('failed')\n",
    "assert capitalize('a lazy fox') == 'A Lazy Fox', print('failed')\n",
    "assert capitalize('look, it is working!') == 'Look, It Is Working!', print('failed')\n",
    "print('passed')"
   ]
  },
  {
   "cell_type": "markdown",
   "metadata": {},
   "source": [
    "# steps\n",
    "\n",
    "Write a function that accepts a positive number N.\n",
    "The function should console log a step shape\n",
    "with N levels using the # character.  Make sure the\n",
    "step has spaces on the right hand side!\n",
    "\n",
    "Examples\n",
    "* steps(2)\n",
    "*     '# '\n",
    "*     '##'\n",
    "* steps(3)\n",
    "*     '#  '\n",
    "*     '## '\n",
    "*     '###'\n",
    "* steps(4)\n",
    "*     '#   '\n",
    "*     '##  '\n",
    "*     '### '\n",
    "*     '####'"
   ]
  },
  {
   "cell_type": "code",
   "execution_count": 32,
   "metadata": {},
   "outputs": [],
   "source": [
    "def steps(num):\n",
    "    result = ''\n",
    "    sharp = ''\n",
    "    for i in range(num):\n",
    "        sharp += '#'\n",
    "        result = sharp\n",
    "        for j in range(i+1,num):\n",
    "            result += ' '\n",
    "        print('\\''+result+'\\'')"
   ]
  },
  {
   "cell_type": "code",
   "execution_count": 36,
   "metadata": {},
   "outputs": [
    {
     "name": "stdout",
     "output_type": "stream",
     "text": [
      "'# '\n",
      "'##'\n"
     ]
    }
   ],
   "source": [
    "steps(2)"
   ]
  },
  {
   "cell_type": "code",
   "execution_count": 37,
   "metadata": {},
   "outputs": [
    {
     "name": "stdout",
     "output_type": "stream",
     "text": [
      "'#  '\n",
      "'## '\n",
      "'###'\n"
     ]
    }
   ],
   "source": [
    "steps(3)"
   ]
  },
  {
   "cell_type": "code",
   "execution_count": 38,
   "metadata": {},
   "outputs": [
    {
     "name": "stdout",
     "output_type": "stream",
     "text": [
      "'#   '\n",
      "'##  '\n",
      "'### '\n",
      "'####'\n"
     ]
    }
   ],
   "source": [
    "steps(4)"
   ]
  },
  {
   "cell_type": "code",
   "execution_count": 56,
   "metadata": {},
   "outputs": [],
   "source": [
    "def recursive_steps(num, tot):\n",
    "    if num == 0:\n",
    "        return\n",
    "    else:\n",
    "        recursive_steps(num-1, tot)\n",
    "        res = '#' * num + ' ' * (tot - num)\n",
    "        print('\\''+res+'\\'')"
   ]
  },
  {
   "cell_type": "code",
   "execution_count": 57,
   "metadata": {},
   "outputs": [
    {
     "name": "stdout",
     "output_type": "stream",
     "text": [
      "'# '\n",
      "'##'\n"
     ]
    }
   ],
   "source": [
    "recursive_steps(2, 2)"
   ]
  },
  {
   "cell_type": "markdown",
   "metadata": {},
   "source": [
    "# pyramid\n",
    "Write a function that accepts a positive number N.\n",
    "The function should console log a pyramid shape\n",
    "with N levels using the # character.  Make sure the\n",
    "pyramid has spaces on both the left *and* right hand sides\n",
    "\n",
    "Examples\n",
    "* pyramid(1)\n",
    "*     '#'\n",
    "* pyramid(2)\n",
    "*     ' # '\n",
    "*     '###'\n",
    "* pyramid(3)\n",
    "*     '  #  '\n",
    "*     ' ### '\n",
    "*     '#####'"
   ]
  },
  {
   "cell_type": "code",
   "execution_count": 69,
   "metadata": {},
   "outputs": [],
   "source": [
    "def pyramid(num):\n",
    "    tot = 2 * num - 1\n",
    "    result = ''\n",
    "    sharp = ''\n",
    "    for i in range(1, num+1):\n",
    "        res = ' ' * int((tot - (2 * i - 1))/2)\n",
    "        res += '#' * (2 * i - 1)\n",
    "        res += ' ' * int((tot - (2 * i - 1))/2)\n",
    "        print('\\''+res+'\\'')    "
   ]
  },
  {
   "cell_type": "code",
   "execution_count": 70,
   "metadata": {},
   "outputs": [
    {
     "name": "stdout",
     "output_type": "stream",
     "text": [
      "'#'\n"
     ]
    }
   ],
   "source": [
    "pyramid(1)"
   ]
  },
  {
   "cell_type": "code",
   "execution_count": 71,
   "metadata": {},
   "outputs": [
    {
     "name": "stdout",
     "output_type": "stream",
     "text": [
      "' # '\n",
      "'###'\n"
     ]
    }
   ],
   "source": [
    "pyramid(2)"
   ]
  },
  {
   "cell_type": "code",
   "execution_count": 72,
   "metadata": {},
   "outputs": [
    {
     "name": "stdout",
     "output_type": "stream",
     "text": [
      "'  #  '\n",
      "' ### '\n",
      "'#####'\n"
     ]
    }
   ],
   "source": [
    "pyramid(3)"
   ]
  },
  {
   "cell_type": "markdown",
   "metadata": {},
   "source": [
    "# vowels\n",
    "\n",
    "Write a function that returns the number of vowels\n",
    "used in a string.  Vowels are the characters 'a', 'e'\n",
    "'i', 'o', and 'u'.\n",
    "\n",
    "Examples\n",
    "* vowels('Hi There!') --> 3\n",
    "* vowels('Why do you ask?') --> 4\n",
    "* vowels('Why?') --> 0"
   ]
  },
  {
   "cell_type": "code",
   "execution_count": 81,
   "metadata": {},
   "outputs": [],
   "source": [
    "def vowels(string):\n",
    "    from collections import defaultdict\n",
    "    bow = defaultdict(int)\n",
    "    for i in list(string):\n",
    "        if i in ['a', 'e', 'i', 'o', 'u']:\n",
    "            bow[i] += 1\n",
    "    return sum(bow.values())"
   ]
  },
  {
   "cell_type": "code",
   "execution_count": 82,
   "metadata": {},
   "outputs": [
    {
     "name": "stdout",
     "output_type": "stream",
     "text": [
      "passed\n"
     ]
    }
   ],
   "source": [
    "assert vowels('Hi There!') == 3, print('failed')\n",
    "assert vowels('Why do you ask?') == 4, print('failed')\n",
    "assert vowels('Why?') == 0, print('failed')\n",
    "print('passed')"
   ]
  },
  {
   "cell_type": "markdown",
   "metadata": {},
   "source": [
    "# matrix\n",
    "Write a function that accepts an integer N\n",
    "and returns a NxN spiral matrix.\n",
    "\n",
    "Examples\n",
    "* matrix(2)\n",
    "    [[1, 2],\n",
    "    [4, 3]]\n",
    "* matrix(3)\n",
    "    [[1, 2, 3],\n",
    "    [8, 9, 4],\n",
    "    [7, 6, 5]]\n",
    "* matrix(4)\n",
    "    [[1,   2,  3, 4],\n",
    "    [12, 13, 14, 5],\n",
    "    [11, 16, 15, 6],\n",
    "    [10,  9,  8, 7]]"
   ]
  },
  {
   "cell_type": "code",
   "execution_count": 96,
   "metadata": {},
   "outputs": [],
   "source": [
    "def matrix(num):\n",
    "    res = []\n",
    "    for i in range(num):\n",
    "        res.append([0]*num)\n",
    "    srow = 0\n",
    "    erow = num - 1\n",
    "    scol = 0\n",
    "    ecol = num - 1\n",
    "    \n",
    "    counter = 1\n",
    "\n",
    "    while erow >= srow or ecol >= scol:\n",
    "        for c in range(scol, ecol+1):\n",
    "            res[srow][c] = counter\n",
    "            counter += 1\n",
    "        srow += 1\n",
    "        for rd in range(srow, erow+1):\n",
    "            res[rd][ecol] = counter\n",
    "            counter += 1\n",
    "        ecol -= 1\n",
    "        for cl in range(ecol, scol-1, -1):\n",
    "            res[erow][cl] = counter\n",
    "            counter += 1\n",
    "        erow -= 1\n",
    "        for ru in range(erow, srow-1, -1):\n",
    "            res[ru][scol] = counter\n",
    "            counter += 1\n",
    "        scol += 1\n",
    "        \n",
    "    return res"
   ]
  },
  {
   "cell_type": "code",
   "execution_count": 99,
   "metadata": {},
   "outputs": [
    {
     "name": "stdout",
     "output_type": "stream",
     "text": [
      "passed\n"
     ]
    }
   ],
   "source": [
    "assert matrix(2) == [[1, 2], [4, 3]], print('failed')\n",
    "assert matrix(3) == [[1, 2, 3], [8, 9, 4], [7, 6, 5]], print('failed')\n",
    "assert matrix(4) == [[1, 2, 3, 4], [12, 13, 14, 5], [11, 16, 15, 6], [10, 9, 8, 7]], print('failed')\n",
    "print('passed')"
   ]
  },
  {
   "cell_type": "code",
   "execution_count": null,
   "metadata": {},
   "outputs": [],
   "source": []
  }
 ],
 "metadata": {
  "kernelspec": {
   "display_name": "Python 3",
   "language": "python",
   "name": "python3"
  },
  "language_info": {
   "codemirror_mode": {
    "name": "ipython",
    "version": 3
   },
   "file_extension": ".py",
   "mimetype": "text/x-python",
   "name": "python",
   "nbconvert_exporter": "python",
   "pygments_lexer": "ipython3",
   "version": "3.7.1"
  }
 },
 "nbformat": 4,
 "nbformat_minor": 2
}
