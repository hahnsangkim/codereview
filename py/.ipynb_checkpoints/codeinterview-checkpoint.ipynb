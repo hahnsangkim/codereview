{
 "cells": [
  {
   "cell_type": "markdown",
   "metadata": {},
   "source": [
    "# reversestring\n",
    "Given a string, return a new string with the reversed\n",
    "\n",
    "Examples\n",
    "* reverse('apple') === 'leppa'\n",
    "* reverse('hello') === 'olleh'\n",
    "* reverse('Greetings!') === '!sgniteerG'"
   ]
  },
  {
   "cell_type": "code",
   "execution_count": 14,
   "metadata": {},
   "outputs": [],
   "source": [
    "def reverse(string):\n",
    "    rev_string =''\n",
    "    for i in range(len(string)-1,-1,-1):\n",
    "        rev_string += string[i]\n",
    "    return rev_string"
   ]
  },
  {
   "cell_type": "code",
   "execution_count": 18,
   "metadata": {},
   "outputs": [
    {
     "name": "stdout",
     "output_type": "stream",
     "text": [
      "elppa\n",
      "olleh\n",
      "!sgniteerG\n"
     ]
    }
   ],
   "source": [
    "print(reverse('apple'))\n",
    "print(reverse('hello'))\n",
    "print(reverse('Greetings!'))"
   ]
  },
  {
   "cell_type": "markdown",
   "metadata": {},
   "source": [
    "# palindrome\n",
    "\n",
    "Given a string, return true if the string is a palindrome\n",
    "or false if it is not.  Palindromes are strings that\n",
    "form the same word if it is reversed. *Do* include spaces\n",
    "and punctuation in determining if the string is a palindrome.\n",
    "\n",
    "Examples:\n",
    "* palindrome(\"abba\") === true\n",
    "* palindrome(\"abcdefg\") === false"
   ]
  },
  {
   "cell_type": "code",
   "execution_count": 19,
   "metadata": {},
   "outputs": [],
   "source": [
    "def palindrome(string):\n",
    "    rev_string = reverse(string)\n",
    "    if rev_string == string:\n",
    "        return True\n",
    "    else:\n",
    "        return False"
   ]
  },
  {
   "cell_type": "code",
   "execution_count": 20,
   "metadata": {},
   "outputs": [
    {
     "name": "stdout",
     "output_type": "stream",
     "text": [
      "passed\n",
      "passed\n"
     ]
    }
   ],
   "source": [
    "assert palindrome(\"abba\") == True, print('failed')\n",
    "print('passed')\n",
    "assert palindrome(\"abcdefg\") == False, print('failed')\n",
    "print('passed')"
   ]
  },
  {
   "cell_type": "markdown",
   "metadata": {},
   "source": [
    "# reverseint\n",
    "\n",
    "Given an integer, return an integer that is the reverse\n",
    "\n",
    "Examples\n",
    "* reverseInt(15) === 51\n",
    "* reverseInt(981) === 189\n",
    "* reverseInt(500) === 5\n",
    "* reverseInt(-15) === -51\n",
    "* reverseInt(-90) === -9"
   ]
  },
  {
   "cell_type": "code",
   "execution_count": 31,
   "metadata": {},
   "outputs": [],
   "source": [
    "def reverseInt(integer):\n",
    "    sign = 1\n",
    "    if integer < 0:\n",
    "        sign *= -1\n",
    "        integer = sign * integer\n",
    "    int_str = str(integer)\n",
    "    rev_int_str = reverse(int_str)\n",
    "    return sign * int(rev_int_str)"
   ]
  },
  {
   "cell_type": "code",
   "execution_count": 32,
   "metadata": {},
   "outputs": [
    {
     "data": {
      "text/plain": [
       "51"
      ]
     },
     "execution_count": 32,
     "metadata": {},
     "output_type": "execute_result"
    }
   ],
   "source": [
    "reverseInt(15)"
   ]
  },
  {
   "cell_type": "code",
   "execution_count": 33,
   "metadata": {},
   "outputs": [
    {
     "name": "stdout",
     "output_type": "stream",
     "text": [
      "passed\n"
     ]
    }
   ],
   "source": [
    "assert reverseInt(15) == 51, print('failed')\n",
    "assert reverseInt(981) == 189, print('failed')\n",
    "assert reverseInt(500) == 5, print('failed')\n",
    "assert reverseInt(-15) == -51, print('failed')\n",
    "assert reverseInt(-90) == -9, print('failed')\n",
    "print('passed')"
   ]
  },
  {
   "cell_type": "markdown",
   "metadata": {},
   "source": [
    "# maxchar\n",
    "\n",
    "Given a string, return the character that is most\n",
    "commonly used in the string.\n",
    "\n",
    "--- Examples\n",
    "* maxChar(\"abcccccccd\") === \"c\"\n",
    "* maxChar(\"apple 1231111\") === \"1\""
   ]
  },
  {
   "cell_type": "code",
   "execution_count": 38,
   "metadata": {},
   "outputs": [],
   "source": [
    "def maxChar(string):\n",
    "    arr = list(string)\n",
    "    unique = set(arr)\n",
    "    max_e = ''\n",
    "    max_c = 0\n",
    "    for e in unique:\n",
    "        char_c = 0\n",
    "        for i in range(len(arr)):\n",
    "            if e == arr[i]:\n",
    "                char_c += 1\n",
    "        if char_c > max_c:\n",
    "            max_c = char_c\n",
    "            max_e = e\n",
    "            \n",
    "    return max_e"
   ]
  },
  {
   "cell_type": "code",
   "execution_count": 48,
   "metadata": {},
   "outputs": [],
   "source": [
    "from collections import defaultdict\n",
    "def maxChar2(string):\n",
    "    count_dic = defaultdict(int)\n",
    "    for c in list(string):\n",
    "        count_dic[c] += 1\n",
    "    return max(count_dic, key=count_dic.get)"
   ]
  },
  {
   "cell_type": "code",
   "execution_count": 49,
   "metadata": {},
   "outputs": [
    {
     "name": "stdout",
     "output_type": "stream",
     "text": [
      "passed\n"
     ]
    }
   ],
   "source": [
    "assert maxChar2('abccccccd') == 'c', print('failed')\n",
    "assert maxChar2('apple 1231111') == '1', print('failed')\n",
    "print('passed')"
   ]
  },
  {
   "cell_type": "markdown",
   "metadata": {},
   "source": [
    "# fizzbuzz\n",
    "\n",
    "Write a program that console logs the numbers\n",
    "from 1 to n. But for multiples of three print\n",
    "“fizz” instead of the number and for the multiples\n",
    "of five print “buzz”. For numbers which are multiples\n",
    "of both three and five print “fizzbuzz”.\n",
    "\n",
    "--- Example\n",
    "  fizzBuzz(5);\n",
    "  \n",
    "  1\n",
    "  \n",
    "  2\n",
    "  \n",
    "  fizz\n",
    "  \n",
    "  4\n",
    "  \n",
    "  buzz"
   ]
  },
  {
   "cell_type": "code",
   "execution_count": 59,
   "metadata": {},
   "outputs": [],
   "source": [
    "def fizzbuzz(integer):\n",
    "    for i in range(1,integer+1):\n",
    "        if (i % 15) == 0:\n",
    "            print('fizzbuzz')\n",
    "        elif (i % 3) == 0:\n",
    "            print('fizz')\n",
    "        elif (i % 5) == 0:\n",
    "            print('buzz')\n",
    "        else:\n",
    "            print(i)"
   ]
  },
  {
   "cell_type": "code",
   "execution_count": 61,
   "metadata": {},
   "outputs": [
    {
     "name": "stdout",
     "output_type": "stream",
     "text": [
      "1\n",
      "2\n",
      "fizz\n",
      "4\n",
      "buzz\n",
      "fizz\n",
      "7\n",
      "8\n",
      "fizz\n",
      "buzz\n",
      "11\n",
      "fizz\n",
      "13\n",
      "14\n",
      "fizzbuzz\n"
     ]
    }
   ],
   "source": [
    "fizzbuzz(15)"
   ]
  },
  {
   "cell_type": "markdown",
   "metadata": {},
   "source": [
    "# chunk\n",
    "\n",
    "Given an array and chunk size, divide the array into many subarrays\n",
    "where each subarray is of length size\n",
    "\n",
    "--- Examples\n",
    "* chunk([1, 2, 3, 4], 2) --> [[ 1, 2], [3, 4]]\n",
    "* chunk([1, 2, 3, 4, 5], 2) --> [[ 1, 2], [3, 4], [5]]\n",
    "* chunk([1, 2, 3, 4, 5, 6, 7, 8], 3) --> [[ 1, 2, 3], [4, 5, 6], [7, 8]]\n",
    "* chunk([1, 2, 3, 4, 5], 4) --> [[ 1, 2, 3, 4], [5]]\n",
    "* chunk([1, 2, 3, 4, 5], 10) --> [[ 1, 2, 3, 4, 5]]"
   ]
  },
  {
   "cell_type": "code",
   "execution_count": 62,
   "metadata": {},
   "outputs": [],
   "source": [
    "def chunk(arr, num):\n",
    "    arrlist = []\n",
    "    for i in range(0,len(arr),num):\n",
    "        arrlist.append(arr[i:i+num])\n",
    "    return arrlist"
   ]
  },
  {
   "cell_type": "code",
   "execution_count": 64,
   "metadata": {},
   "outputs": [
    {
     "name": "stdout",
     "output_type": "stream",
     "text": [
      "passed\n"
     ]
    }
   ],
   "source": [
    "assert chunk([1, 2, 3, 4], 2) == [[ 1, 2], [3, 4]], print('failed')\n",
    "assert chunk([1, 2, 3, 4, 5], 2) == [[ 1, 2], [3, 4], [5]], print('failed')\n",
    "assert chunk([1, 2, 3, 4, 5, 6, 7, 8], 3) == [[ 1, 2, 3], [4, 5, 6], [7, 8]], print('failed')\n",
    "assert chunk([1, 2, 3, 4, 5], 4) == [[ 1, 2, 3, 4], [5]], print('failed')\n",
    "assert chunk([1, 2, 3, 4, 5], 10) == [[ 1, 2, 3, 4, 5]], print('failed')\n",
    "print('passed')"
   ]
  },
  {
   "cell_type": "markdown",
   "metadata": {},
   "source": [
    "# anagrams\n",
    "Check to see if two provided strings are anagrams of eachother.\n",
    "One string is an anagram of another if it uses the same characters\n",
    "in the same quantity. Only consider characters, not spaces\n",
    "or punctuation.  Consider capital letters to be the same as lower case\n",
    "\n",
    "--- Examples\n",
    "* anagrams('rail safety', 'fairy tales') --> True\n",
    "* anagrams('RAIL! SAFETY!', 'fairy tales') --> True\n",
    "* anagrams('Hi there', 'Bye there') --> False"
   ]
  },
  {
   "cell_type": "code",
   "execution_count": 16,
   "metadata": {},
   "outputs": [],
   "source": [
    "def make_bow(string):\n",
    "    from collections import defaultdict\n",
    "    count_dic = defaultdict(int)\n",
    "    for c in list(string):\n",
    "        count_dic[c] += 1\n",
    "    return count_dic"
   ]
  },
  {
   "cell_type": "code",
   "execution_count": 19,
   "metadata": {},
   "outputs": [],
   "source": [
    "def anagrams(str1, str2):\n",
    "    import re\n",
    "    mystr1 = re.sub('[^\\w \\n\\.]', '', str1).lower()\n",
    "    mystr2 = re.sub('[^\\w \\n\\./g]', '', str2).lower()\n",
    "    bow1 = make_bow(mystr1)\n",
    "    bow2 = make_bow(mystr2)\n",
    "    return bow1 == bow2"
   ]
  },
  {
   "cell_type": "code",
   "execution_count": 21,
   "metadata": {},
   "outputs": [
    {
     "name": "stdout",
     "output_type": "stream",
     "text": [
      "passed\n"
     ]
    }
   ],
   "source": [
    "assert anagrams('rail safety', 'fairy tales') == True, print('failed')\n",
    "assert anagrams('RAIL! SAFETY!', 'fairy tales') == True, print('failed')\n",
    "assert anagrams('Hi there', 'Bye there') == False, print('failed')\n",
    "print('passed')"
   ]
  },
  {
   "cell_type": "markdown",
   "metadata": {},
   "source": [
    "# capitalize\n",
    "\n",
    "Write a function that accepts a string.  The function should\n",
    "capitalize the first letter of each word in the string then\n",
    "return the capitalized string.\n",
    "\n",
    "--- Examples\n",
    "* capitalize('a short sentence') --> 'A Short Sentence'\n",
    "* capitalize('a lazy fox') --> 'A Lazy Fox'\n",
    "* capitalize('look, it is working!') --> 'Look, It Is Working!'\n"
   ]
  },
  {
   "cell_type": "code",
   "execution_count": 28,
   "metadata": {},
   "outputs": [],
   "source": [
    "def capitalize(string):\n",
    "    strings = string.split(' ')\n",
    "    result = ''\n",
    "    for inx, st in enumerate(strings):\n",
    "        result = result + st[0].upper() + st[1:] + ' '\n",
    "    return result[:-1]"
   ]
  },
  {
   "cell_type": "code",
   "execution_count": 30,
   "metadata": {},
   "outputs": [
    {
     "name": "stdout",
     "output_type": "stream",
     "text": [
      "passed\n"
     ]
    }
   ],
   "source": [
    "assert capitalize('a short sentence') == 'A Short Sentence', print('failed')\n",
    "assert capitalize('a lazy fox') == 'A Lazy Fox', print('failed')\n",
    "assert capitalize('look, it is working!') == 'Look, It Is Working!', print('failed')\n",
    "print('passed')"
   ]
  },
  {
   "cell_type": "markdown",
   "metadata": {},
   "source": [
    "# steps\n",
    "\n",
    "Write a function that accepts a positive number N.\n",
    "The function should console log a step shape\n",
    "with N levels using the # character.  Make sure the\n",
    "step has spaces on the right hand side!\n",
    "\n",
    "Examples\n",
    "* steps(2)\n",
    "*     '# '\n",
    "*     '##'\n",
    "* steps(3)\n",
    "*     '#  '\n",
    "*     '## '\n",
    "*     '###'\n",
    "* steps(4)\n",
    "*     '#   '\n",
    "*     '##  '\n",
    "*     '### '\n",
    "*     '####'"
   ]
  },
  {
   "cell_type": "code",
   "execution_count": 32,
   "metadata": {},
   "outputs": [],
   "source": [
    "def steps(num):\n",
    "    result = ''\n",
    "    sharp = ''\n",
    "    for i in range(num):\n",
    "        sharp += '#'\n",
    "        result = sharp\n",
    "        for j in range(i+1,num):\n",
    "            result += ' '\n",
    "        print('\\''+result+'\\'')"
   ]
  },
  {
   "cell_type": "code",
   "execution_count": 36,
   "metadata": {},
   "outputs": [
    {
     "name": "stdout",
     "output_type": "stream",
     "text": [
      "'# '\n",
      "'##'\n"
     ]
    }
   ],
   "source": [
    "steps(2)"
   ]
  },
  {
   "cell_type": "code",
   "execution_count": 37,
   "metadata": {},
   "outputs": [
    {
     "name": "stdout",
     "output_type": "stream",
     "text": [
      "'#  '\n",
      "'## '\n",
      "'###'\n"
     ]
    }
   ],
   "source": [
    "steps(3)"
   ]
  },
  {
   "cell_type": "code",
   "execution_count": 38,
   "metadata": {},
   "outputs": [
    {
     "name": "stdout",
     "output_type": "stream",
     "text": [
      "'#   '\n",
      "'##  '\n",
      "'### '\n",
      "'####'\n"
     ]
    }
   ],
   "source": [
    "steps(4)"
   ]
  },
  {
   "cell_type": "code",
   "execution_count": 56,
   "metadata": {},
   "outputs": [],
   "source": [
    "def recursive_steps(num, tot):\n",
    "    if num == 0:\n",
    "        return\n",
    "    else:\n",
    "        recursive_steps(num-1, tot)\n",
    "        res = '#' * num + ' ' * (tot - num)\n",
    "        print('\\''+res+'\\'')"
   ]
  },
  {
   "cell_type": "code",
   "execution_count": 57,
   "metadata": {},
   "outputs": [
    {
     "name": "stdout",
     "output_type": "stream",
     "text": [
      "'# '\n",
      "'##'\n"
     ]
    }
   ],
   "source": [
    "recursive_steps(2, 2)"
   ]
  },
  {
   "cell_type": "markdown",
   "metadata": {},
   "source": [
    "# pyramid\n",
    "Write a function that accepts a positive number N.\n",
    "The function should console log a pyramid shape\n",
    "with N levels using the # character.  Make sure the\n",
    "pyramid has spaces on both the left *and* right hand sides\n",
    "\n",
    "Examples\n",
    "* pyramid(1)\n",
    "*     '#'\n",
    "* pyramid(2)\n",
    "*     ' # '\n",
    "*     '###'\n",
    "* pyramid(3)\n",
    "*     '  #  '\n",
    "*     ' ### '\n",
    "*     '#####'"
   ]
  },
  {
   "cell_type": "code",
   "execution_count": 69,
   "metadata": {},
   "outputs": [],
   "source": [
    "def pyramid(num):\n",
    "    tot = 2 * num - 1\n",
    "    result = ''\n",
    "    sharp = ''\n",
    "    for i in range(1, num+1):\n",
    "        res = ' ' * int((tot - (2 * i - 1))/2)\n",
    "        res += '#' * (2 * i - 1)\n",
    "        res += ' ' * int((tot - (2 * i - 1))/2)\n",
    "        print('\\''+res+'\\'')    "
   ]
  },
  {
   "cell_type": "code",
   "execution_count": 70,
   "metadata": {},
   "outputs": [
    {
     "name": "stdout",
     "output_type": "stream",
     "text": [
      "'#'\n"
     ]
    }
   ],
   "source": [
    "pyramid(1)"
   ]
  },
  {
   "cell_type": "code",
   "execution_count": 71,
   "metadata": {},
   "outputs": [
    {
     "name": "stdout",
     "output_type": "stream",
     "text": [
      "' # '\n",
      "'###'\n"
     ]
    }
   ],
   "source": [
    "pyramid(2)"
   ]
  },
  {
   "cell_type": "code",
   "execution_count": 72,
   "metadata": {},
   "outputs": [
    {
     "name": "stdout",
     "output_type": "stream",
     "text": [
      "'  #  '\n",
      "' ### '\n",
      "'#####'\n"
     ]
    }
   ],
   "source": [
    "pyramid(3)"
   ]
  },
  {
   "cell_type": "markdown",
   "metadata": {},
   "source": [
    "# vowels\n",
    "\n",
    "Write a function that returns the number of vowels\n",
    "used in a string.  Vowels are the characters 'a', 'e'\n",
    "'i', 'o', and 'u'.\n",
    "\n",
    "Examples\n",
    "* vowels('Hi There!') --> 3\n",
    "* vowels('Why do you ask?') --> 4\n",
    "* vowels('Why?') --> 0"
   ]
  },
  {
   "cell_type": "code",
   "execution_count": 81,
   "metadata": {},
   "outputs": [],
   "source": [
    "def vowels(string):\n",
    "    from collections import defaultdict\n",
    "    bow = defaultdict(int)\n",
    "    for i in list(string):\n",
    "        if i in ['a', 'e', 'i', 'o', 'u']:\n",
    "            bow[i] += 1\n",
    "    return sum(bow.values())"
   ]
  },
  {
   "cell_type": "code",
   "execution_count": 82,
   "metadata": {},
   "outputs": [
    {
     "name": "stdout",
     "output_type": "stream",
     "text": [
      "passed\n"
     ]
    }
   ],
   "source": [
    "assert vowels('Hi There!') == 3, print('failed')\n",
    "assert vowels('Why do you ask?') == 4, print('failed')\n",
    "assert vowels('Why?') == 0, print('failed')\n",
    "print('passed')"
   ]
  },
  {
   "cell_type": "markdown",
   "metadata": {},
   "source": [
    "# matrix\n",
    "Write a function that accepts an integer N\n",
    "and returns a NxN spiral matrix.\n",
    "\n",
    "Examples\n",
    "* matrix(2)\n",
    "    [[1, 2],\n",
    "    [4, 3]]\n",
    "* matrix(3)\n",
    "    [[1, 2, 3],\n",
    "    [8, 9, 4],\n",
    "    [7, 6, 5]]\n",
    "* matrix(4)\n",
    "    [[1,   2,  3, 4],\n",
    "    [12, 13, 14, 5],\n",
    "    [11, 16, 15, 6],\n",
    "    [10,  9,  8, 7]]"
   ]
  },
  {
   "cell_type": "code",
   "execution_count": 96,
   "metadata": {},
   "outputs": [],
   "source": [
    "def matrix(num):\n",
    "    res = []\n",
    "    for i in range(num):\n",
    "        res.append([0]*num)\n",
    "    srow = 0\n",
    "    erow = num - 1\n",
    "    scol = 0\n",
    "    ecol = num - 1\n",
    "    \n",
    "    counter = 1\n",
    "\n",
    "    while erow >= srow or ecol >= scol:\n",
    "        for c in range(scol, ecol+1):\n",
    "            res[srow][c] = counter\n",
    "            counter += 1\n",
    "        srow += 1\n",
    "        for rd in range(srow, erow+1):\n",
    "            res[rd][ecol] = counter\n",
    "            counter += 1\n",
    "        ecol -= 1\n",
    "        for cl in range(ecol, scol-1, -1):\n",
    "            res[erow][cl] = counter\n",
    "            counter += 1\n",
    "        erow -= 1\n",
    "        for ru in range(erow, srow-1, -1):\n",
    "            res[ru][scol] = counter\n",
    "            counter += 1\n",
    "        scol += 1\n",
    "        \n",
    "    return res"
   ]
  },
  {
   "cell_type": "code",
   "execution_count": 99,
   "metadata": {},
   "outputs": [
    {
     "name": "stdout",
     "output_type": "stream",
     "text": [
      "passed\n"
     ]
    }
   ],
   "source": [
    "assert matrix(2) == [[1, 2], [4, 3]], print('failed')\n",
    "assert matrix(3) == [[1, 2, 3], [8, 9, 4], [7, 6, 5]], print('failed')\n",
    "assert matrix(4) == [[1, 2, 3, 4], [12, 13, 14, 5], [11, 16, 15, 6], [10, 9, 8, 7]], print('failed')\n",
    "print('passed')"
   ]
  },
  {
   "cell_type": "markdown",
   "metadata": {},
   "source": [
    "# fib\n",
    "Print out the n-th entry in the fibonacci series.\n",
    "The fibonacci series is an ordering of numbers where\n",
    "each number is the sum of the preceeding two.\n",
    "\n",
    "For example, the sequence\n",
    "\n",
    " [0, 1, 1, 2, 3, 5, 8, 13, 21, 34]\n",
    " \n",
    "forms the first ten entries of the fibonacci series.\n",
    "\n",
    "Example:\n",
    "\n",
    "  fib(4) === 3"
   ]
  },
  {
   "cell_type": "code",
   "execution_count": 120,
   "metadata": {},
   "outputs": [],
   "source": [
    "def rfib(num):\n",
    "    if num == 0:\n",
    "        return 0\n",
    "    elif num == 1:\n",
    "        return 1\n",
    "    else:\n",
    "        return rfib(num-1) + rfib(num-2)"
   ]
  },
  {
   "cell_type": "code",
   "execution_count": 121,
   "metadata": {},
   "outputs": [
    {
     "name": "stdout",
     "output_type": "stream",
     "text": [
      "passed\n"
     ]
    }
   ],
   "source": [
    "assert rfib(4) == 3, print('failed')\n",
    "assert rfib(9) == 34, print('failed')\n",
    "print('passed')"
   ]
  },
  {
   "cell_type": "code",
   "execution_count": 122,
   "metadata": {},
   "outputs": [],
   "source": [
    "def fib(num):\n",
    "    res = [0, 1]\n",
    "    for i in range(2, num+1):\n",
    "        res.append(res[i-1]+res[i-2])\n",
    "    return res[-1]"
   ]
  },
  {
   "cell_type": "code",
   "execution_count": 123,
   "metadata": {},
   "outputs": [
    {
     "name": "stdout",
     "output_type": "stream",
     "text": [
      "passed\n"
     ]
    }
   ],
   "source": [
    "assert fib(4) == 3, print('failed')\n",
    "assert fib(9) == 34, print('failed')\n",
    "print('passed')"
   ]
  },
  {
   "cell_type": "code",
   "execution_count": 124,
   "metadata": {},
   "outputs": [
    {
     "data": {
      "text/plain": [
       "3"
      ]
     },
     "execution_count": 124,
     "metadata": {},
     "output_type": "execute_result"
    }
   ],
   "source": [
    "fib(4)"
   ]
  },
  {
   "cell_type": "markdown",
   "metadata": {},
   "source": [
    "# runtime complexity\n",
    "<img src=\"img/O.png\" width=700>\n",
    "<img src=\"img/IO1.png\" width=700>\n",
    "<img src=\"img/IO2.png\" width=700>"
   ]
  },
  {
   "cell_type": "markdown",
   "metadata": {},
   "source": [
    "# queue\n",
    "\n",
    "Create a queue data structure.  The queue\n",
    "should be a class with methods 'add' and 'remove'.\n",
    "Adding to the queue should store an element until\n",
    "it is removed\n",
    "\n",
    "Examples\n",
    "```python\n",
    "    q = Queue()\n",
    "    q.add(1)\n",
    "    q.add(2)\n",
    "    q.remove() // returns 1;\n",
    "```"
   ]
  },
  {
   "cell_type": "code",
   "execution_count": 203,
   "metadata": {},
   "outputs": [],
   "source": [
    "class Queue:\n",
    "    Arr = []\n",
    "    def __init__(self):\n",
    "        self.Arr = []\n",
    "    def add(self, el):\n",
    "        self.Arr.append(el)\n",
    "    def remove(self):\n",
    "        if len(self.Arr) > 0:\n",
    "            return self.Arr.pop(0)\n",
    "        else:\n",
    "            return None"
   ]
  },
  {
   "cell_type": "code",
   "execution_count": 204,
   "metadata": {},
   "outputs": [
    {
     "data": {
      "text/plain": [
       "1"
      ]
     },
     "execution_count": 204,
     "metadata": {},
     "output_type": "execute_result"
    }
   ],
   "source": [
    "q = Queue()\n",
    "q.add(1)\n",
    "q.add(2)\n",
    "q.remove()"
   ]
  },
  {
   "cell_type": "code",
   "execution_count": 205,
   "metadata": {},
   "outputs": [
    {
     "data": {
      "text/plain": [
       "2"
      ]
     },
     "execution_count": 205,
     "metadata": {},
     "output_type": "execute_result"
    }
   ],
   "source": [
    "q.remove()"
   ]
  },
  {
   "cell_type": "markdown",
   "metadata": {},
   "source": [
    "# weave\n",
    "receives two queues as arguments and combines the\n",
    "contents of each into a new, third queue.\n",
    "The third queue should contain the *alterating* content\n",
    "of the two queues.  The function should handle\n",
    "queues of different lengths without inserting\n",
    "'undefined' into the new one.\n",
    "*Do not* access the array inside of any queue, only\n",
    "use the 'add', 'remove', and 'peek' functions.\n",
    "\n",
    "Example\n",
    "```js\n",
    "   const queueOne = new Queue();\n",
    "   queueOne.add(1);\n",
    "   queueOne.add(2);\n",
    "   const queueTwo = new Queue();\n",
    "   queueTwo.add('Hi');\n",
    "   queueTwo.add('There');\n",
    "   const q = weave(queueOne, queueTwo);\n",
    "   q.remove() // 1\n",
    "   q.remove() // 'Hi'\n",
    "   q.remove() // 2\n",
    "   q.remove() // 'There'\n",
    "```"
   ]
  },
  {
   "cell_type": "code",
   "execution_count": 211,
   "metadata": {},
   "outputs": [],
   "source": [
    "class weave:\n",
    "    Arr = []\n",
    "    def __init__(self, obj1, obj2):\n",
    "        self.Arr = []\n",
    "        o1 = obj1.remove()\n",
    "        while o1:\n",
    "            # print(o1)\n",
    "            self.Arr.append(o1)\n",
    "            o2 = obj2.remove()\n",
    "            # print(o2)\n",
    "            if o2:\n",
    "                self.Arr.append(o2)\n",
    "            o1 = obj1.remove()\n",
    "        o2 = obj2.remove()\n",
    "        while o2:\n",
    "            self.Arr.append(o2)\n",
    "    def remove(self):\n",
    "        return self.Arr.pop(0)"
   ]
  },
  {
   "cell_type": "code",
   "execution_count": 212,
   "metadata": {},
   "outputs": [
    {
     "name": "stdout",
     "output_type": "stream",
     "text": [
      "passed\n"
     ]
    }
   ],
   "source": [
    "queueOne = Queue()\n",
    "queueOne.add(1)\n",
    "queueOne.add(2)\n",
    "queueTwo = Queue()\n",
    "queueTwo.add('Hi')\n",
    "queueTwo.add('There')\n",
    "q = weave(queueOne, queueTwo)\n",
    "assert q.remove() == 1, print('failed')\n",
    "assert q.remove() == 'Hi', print('failed')\n",
    "assert q.remove() == 2, print('failed')\n",
    "assert q.remove() == 'There', print('failed')\n",
    "print('passed')"
   ]
  },
  {
   "cell_type": "markdown",
   "metadata": {},
   "source": [
    "# Stack\n",
    "\n",
    "Create a stack data structure.  The stack\n",
    "should be a class with methods 'push', 'pop', and\n",
    "'peek'.  Adding an element to the stack should\n",
    "store it until it is removed.\n",
    "\n",
    "Examples\n",
    "```js\n",
    "  const s = new Stack();\n",
    "  s.push(1);\n",
    "  s.push(2);\n",
    "  s.pop(); // returns 2\n",
    "  s.pop(); // returns 1\n",
    "```"
   ]
  },
  {
   "cell_type": "code",
   "execution_count": 215,
   "metadata": {},
   "outputs": [],
   "source": [
    "class Stack:\n",
    "    Arr = []\n",
    "    def __init__(self):\n",
    "        self.Arr = []\n",
    "    def push(self, el):\n",
    "        self.Arr.append(el)\n",
    "    def pop(self):\n",
    "        if len(self.Arr) > 0:\n",
    "            return self.Arr.pop(len(self.Arr)-1)\n",
    "        else:\n",
    "            return None"
   ]
  },
  {
   "cell_type": "code",
   "execution_count": 216,
   "metadata": {},
   "outputs": [
    {
     "name": "stdout",
     "output_type": "stream",
     "text": [
      "passed\n"
     ]
    }
   ],
   "source": [
    "s = Stack()\n",
    "s.push(1)\n",
    "s.push(2)\n",
    "assert s.pop() == 2, print('failed')\n",
    "assert s.pop() == 1, print('failed')\n",
    "print('passed')"
   ]
  },
  {
   "cell_type": "markdown",
   "metadata": {},
   "source": [
    "# qfroms\n",
    "\n",
    "Implement a Queue datastructure using two stacks.\n",
    "*Do not* create an array inside of the 'Queue' class.\n",
    "Queue should implement the methods 'add', 'remove', and 'peek'.\n",
    "For a reminder on what each method does, look back\n",
    "at the Queue exercise.\n",
    "\n",
    "Examples\n",
    "```js\n",
    "    const q = new QueueS();\n",
    "    q.add(1);\n",
    "    q.add(2);\n",
    "    q.peek();  // returns 1\n",
    "    q.remove(); // returns 1\n",
    "    q.remove(); // returns 2\n",
    "```"
   ]
  },
  {
   "cell_type": "code",
   "execution_count": 219,
   "metadata": {},
   "outputs": [],
   "source": [
    "class QueueS:\n",
    "    def __init__(self):\n",
    "        self.s1 = Stack()\n",
    "        self.s2 = Stack()\n",
    "    def add(self, el):\n",
    "        self.s1.push(el)\n",
    "    def peek(self):\n",
    "        last = 0\n",
    "        val = self.s1.pop()\n",
    "        while val:\n",
    "            last = val\n",
    "            self.s2.push(val)\n",
    "            val = self.s1.pop()\n",
    "        return last\n",
    "    def remove(self):\n",
    "        return self.s2.pop()"
   ]
  },
  {
   "cell_type": "code",
   "execution_count": 220,
   "metadata": {},
   "outputs": [
    {
     "name": "stdout",
     "output_type": "stream",
     "text": [
      "passed\n"
     ]
    }
   ],
   "source": [
    "q = QueueS()\n",
    "q.add(1)\n",
    "q.add(2)\n",
    "assert q.peek() == 1, print('failed')\n",
    "assert q.remove() == 1, print('failed')\n",
    "assert q.remove() == 2, print('failed')\n",
    "print('passed')"
   ]
  },
  {
   "cell_type": "markdown",
   "metadata": {},
   "source": [
    "# Node\n",
    "\n",
    "Creates a class instance to represent a node. The node should have two properties, 'data' and 'next'. Accept both of these as arguments to the 'Node' constructor, then assign them to the instance as properties 'data' and 'next'. If 'next' is not provided to the constructor, then default its value to be 'null'.\n",
    "\n",
    "Example\n",
    "```js\n",
    "const n = new Node('There');\n",
    "n.data // 'There'\n",
    "n.next // null\n",
    "const n2 = new Node('Hi', n);\n",
    "n2.next // returns n\n",
    "```"
   ]
  },
  {
   "cell_type": "code",
   "execution_count": 224,
   "metadata": {},
   "outputs": [],
   "source": [
    "class Node:\n",
    "    data = []\n",
    "    nxt = None\n",
    "    def __init__(self, node, n=None):\n",
    "        self.data = node\n",
    "        self.nxt = n"
   ]
  },
  {
   "cell_type": "code",
   "execution_count": 226,
   "metadata": {},
   "outputs": [
    {
     "name": "stdout",
     "output_type": "stream",
     "text": [
      "passed\n"
     ]
    }
   ],
   "source": [
    "n = Node('There')\n",
    "assert n.data == 'There', print('failed')\n",
    "assert n.nxt == None, print('failed')\n",
    "n2 = Node('Hi', n)\n",
    "assert n2.nxt == n, print('failed')\n",
    "print('passed')"
   ]
  },
  {
   "cell_type": "markdown",
   "metadata": {},
   "source": [
    "# LinkedList\n",
    "\n",
    "constructor: Create a class to represent a linked list. When created, a linked list should have *no* head node associated with it. The LinkedList instance will have one property, 'head', which is a reference to the first node of the linked list. By default 'head' should be 'null'.\n",
    "\n",
    "```js\n",
    "const list = new LinkedList();\n",
    "list.head // null\n",
    "```\n",
    "\n",
    "insertFirst: Creates a new Node from argument 'data' and assigns the resulting node to the 'head' property. Make sure to handle the case in which the linked list already has a node assigned to the 'head' property.\n",
    "\n",
    "```js\n",
    "const list = new LinkedList();\n",
    "list.insertFirst('Hi There'); // List has one node\n",
    "```\n",
    "\n",
    "size: Returns the number of nodes in the linked list.\n",
    "\n",
    "```js\n",
    "const list = new LinkedList();\n",
    "list.insertFirst('a');\n",
    "list.insertFirst('b');\n",
    "list.insertFirst('c');\n",
    "list.size(); // returns 3\n",
    "```\n",
    "\n",
    "getFirst: Returns the first node of the linked list.\n",
    "```js\n",
    "const list = new LinkedList();\n",
    "list.insertFirst('a');\n",
    "list.insertFirst('b');\n",
    "list.getFirst(); // returns Node instance with data 'a'\n",
    "```"
   ]
  },
  {
   "cell_type": "code",
   "execution_count": 281,
   "metadata": {},
   "outputs": [],
   "source": [
    "class LinkedList:\n",
    "    head = None\n",
    "    \n",
    "    def __init__(self):\n",
    "        self.head = None\n",
    "    def insertFirst(self, data):\n",
    "        node = Node(data)\n",
    "        if self.head == None:\n",
    "            self.head = node\n",
    "        else:\n",
    "            node.nxt = self.head\n",
    "            self.head = node\n",
    "    def size(self):\n",
    "        count = 0\n",
    "        ptr = self.head\n",
    "        while ptr:\n",
    "            count += 1\n",
    "            ptr = ptr.nxt\n",
    "        return count\n",
    "\n",
    "    def getLast(self):\n",
    "        ptr = self.head\n",
    "        l = self.size()\n",
    "        if l > 1:\n",
    "            for i in range(l-1):\n",
    "                ptr = ptr.nxt\n",
    "        return ptr.data\n",
    "    \n",
    "    def getFirst(self):\n",
    "        return self.head.data\n",
    "    \n",
    "    def clear(self):\n",
    "        self.head = None\n",
    "        \n",
    "    def removeLast(self):\n",
    "        ptr = self.head\n",
    "        for i in range(self.size()-2):\n",
    "            ptr = ptr.nxt\n",
    "        ptr.nxt = None\n",
    "    \n",
    "    def removeFirst(self):\n",
    "        ptr = self.head.nxt\n",
    "        self.head.nxt = None\n",
    "        self.head = ptr\n",
    "        \n",
    "    def insertLast(self, data):\n",
    "        ptr = self.head\n",
    "        if self.size() > 0:\n",
    "            while ptr.nxt:\n",
    "                ptr = ptr.nxt\n",
    "            ptr.nxt = Node(data)\n",
    "        else:\n",
    "            self.head = Node(data)\n",
    "        \n",
    "    def getAt(self, idx):\n",
    "        ptr = self.head\n",
    "        if idx < self.size():\n",
    "            for i in range(idx):\n",
    "                ptr = ptr.nxt\n",
    "            return ptr.data\n",
    "            \n",
    "    \n",
    "    def removeAt(self, idx):\n",
    "        ptr = self.head\n",
    "        if idx == 0:\n",
    "            self.head = self.head.nxt\n",
    "            ptr.nxt = None\n",
    "        else:\n",
    "            pre_ptr = ptr\n",
    "            for i in range(idx):\n",
    "                pre_ptr = ptr\n",
    "                ptr = ptr.nxt\n",
    "            pre_ptr.nxt = ptr.nxt\n",
    "            ptr.nxt = None\n",
    "    \n",
    "    def insertAt(self, data, idx):\n",
    "        ptr = self.head\n",
    "        if idx == 0:\n",
    "            self.insertFirst(data)\n",
    "        else:\n",
    "            pre_ptr = ptr\n",
    "            for i in range(idx):\n",
    "                pre_ptr = ptr\n",
    "                ptr = ptr.nxt\n",
    "            pre_ptr.nxt = Node(data, ptr)"
   ]
  },
  {
   "cell_type": "code",
   "execution_count": 251,
   "metadata": {},
   "outputs": [
    {
     "name": "stdout",
     "output_type": "stream",
     "text": [
      "All passed\n"
     ]
    }
   ],
   "source": [
    "list = LinkedList()\n",
    "assert list.head == None, print('create failed')\n",
    "list.insertFirst('a')\n",
    "list.insertFirst('b')\n",
    "list.insertFirst('c')\n",
    "assert list.size() == 3, print('size failed')\n",
    "assert list.getFirst() == 'c', print('getFirst failed')\n",
    "assert list.getLast() == 'a', print('getLast failed')\n",
    "list.clear()\n",
    "assert list.size() == 0, print('clear failed')\n",
    "list.insertFirst('a')\n",
    "list.insertFirst('b')\n",
    "list.removeFirst()\n",
    "assert list.getFirst() == 'a', print('removeFirst failed')\n",
    "list.insertFirst('c')\n",
    "list.removeLast()\n",
    "assert list.size() == 1, print('removeLast failed')\n",
    "assert list.getAt(0) == 'c', print('getAt failed')\n",
    "list.removeAt(0)\n",
    "list.insertFirst('a')\n",
    "list.insertLast('b')\n",
    "assert list.getAt(1) == 'b', print('removeAt failed')\n",
    "list.insertAt('Hi', 1)\n",
    "assert list.getAt(1) == 'Hi', print('insertAt failed')\n",
    "print('All passed')"
   ]
  },
  {
   "cell_type": "markdown",
   "metadata": {},
   "source": [
    "# midpoint\n",
    "\n",
    "Return the 'middle' node of a linked list.\n",
    "If the list has an even number of elements, return\n",
    "the node at the end of the first half of the list.\n",
    "*Do not* use a counter variable, *do not* retrieve\n",
    "the size of the list, and only iterate\n",
    "through the list one time.\n",
    "\n",
    "Example\n",
    "```js\n",
    "  const l = new LinkedList();\n",
    "  l.insertLast('a')\n",
    "  l.insertLast('b')\n",
    "  l.insertLast('c')\n",
    "  midpoint(l); // returns { data: 'b' }\n",
    "```"
   ]
  },
  {
   "cell_type": "code",
   "execution_count": 274,
   "metadata": {},
   "outputs": [],
   "source": [
    "def midpoint(l):\n",
    "    slow = l.head\n",
    "    fast = l.head\n",
    "    lahead1 = fast.nxt\n",
    "    lahead2 = fast.nxt.nxt\n",
    "    while lahead1 and lahead2:\n",
    "        slow = slow.nxt\n",
    "        fast = lahead2\n",
    "        if fast.nxt:\n",
    "            if fast.nxt.nxt:\n",
    "                lahead1 = fast.nxt\n",
    "                lahead2 = fast.nxt.nxt\n",
    "            else:\n",
    "                break\n",
    "        else:\n",
    "            break\n",
    "    \n",
    "    return slow"
   ]
  },
  {
   "cell_type": "code",
   "execution_count": 275,
   "metadata": {},
   "outputs": [
    {
     "name": "stdout",
     "output_type": "stream",
     "text": [
      "passed\n"
     ]
    }
   ],
   "source": [
    "l = LinkedList()\n",
    "l.insertFirst('a')\n",
    "l.insertFirst('b')\n",
    "l.insertFirst('c')\n",
    "assert midpoint(l).data == 'b', print('failed')\n",
    "print('passed')"
   ]
  },
  {
   "cell_type": "markdown",
   "metadata": {},
   "source": [
    "# circular\n",
    "\n",
    "Given a linked list, return true if the list\n",
    "is circular, false if it is not.\n",
    "\n",
    "Examples\n",
    "```js\n",
    "  const l = new List();\n",
    "  const a = new Node('a');\n",
    "  const b = new Node('b');\n",
    "  const c = new Node('c');\n",
    "  l.head = a;\n",
    "  a.next = b;\n",
    "  b.next = c;\n",
    "  c.next = b;\n",
    "  circular(l) // true\n",
    "```"
   ]
  },
  {
   "cell_type": "code",
   "execution_count": 276,
   "metadata": {},
   "outputs": [],
   "source": [
    "def circular(l):\n",
    "    from collections import defaultdict\n",
    "    ptr = l.head\n",
    "    dic = defaultdict(int)\n",
    "    while ptr:\n",
    "        dic[ptr.data] += 1\n",
    "        if dic[ptr.data] > 1:\n",
    "            return True\n",
    "        ptr = ptr.nxt\n",
    "        \n",
    "    return False"
   ]
  },
  {
   "cell_type": "code",
   "execution_count": 278,
   "metadata": {},
   "outputs": [
    {
     "name": "stdout",
     "output_type": "stream",
     "text": [
      "passed\n"
     ]
    }
   ],
   "source": [
    "l = LinkedList()\n",
    "a = Node('a')\n",
    "b = Node('b')\n",
    "c = Node('c')\n",
    "l.head = a\n",
    "a.nxt = b\n",
    "b.nxt = c\n",
    "c.nxt = b\n",
    "assert circular(l) == True, print('failed')\n",
    "print('passed')"
   ]
  },
  {
   "cell_type": "markdown",
   "metadata": {},
   "source": [
    "# frontlast\n",
    "\n",
    "Given a linked list, return the element n spaces\n",
    "from the last node in the list.  Do not call the 'size'\n",
    "method of the linked list.  Assume that n will always\n",
    "be less than the length of the list.\n",
    "\n",
    "Examples\n",
    "```js\n",
    "   const list = new List();\n",
    "   list.insertLast('a');\n",
    "   list.insertLast('b');\n",
    "   list.insertLast('c');\n",
    "   list.insertLast('d');\n",
    "   fromLast(list, 2).data // 'b'\n",
    "```"
   ]
  },
  {
   "cell_type": "code",
   "execution_count": 282,
   "metadata": {},
   "outputs": [],
   "source": [
    "def frontlast(l, n):\n",
    "    slow = l.head\n",
    "    fast = l.head\n",
    "    for i in range(n):\n",
    "        fast = fast.nxt\n",
    "    \n",
    "    while True:\n",
    "        if fast.nxt:\n",
    "            slow = slow.nxt\n",
    "            fast = fast.nxt\n",
    "        else:\n",
    "            break;\n",
    "            \n",
    "    return slow"
   ]
  },
  {
   "cell_type": "code",
   "execution_count": 285,
   "metadata": {},
   "outputs": [
    {
     "name": "stdout",
     "output_type": "stream",
     "text": [
      "passed\n"
     ]
    }
   ],
   "source": [
    "l = LinkedList()\n",
    "l.insertLast('a')\n",
    "l.insertLast('b')\n",
    "l.insertLast('c')\n",
    "l.insertLast('d')\n",
    "assert frontlast(l, 2).data == 'b', print('failed')\n",
    "print('passed')"
   ]
  },
  {
   "cell_type": "markdown",
   "metadata": {},
   "source": [
    "# Tree\n",
    "<img src=\"img/tree.png\" width=300>\n",
    "\n",
    "\n",
    "<img src=\"img/tree-bf.png\" width=370>\n",
    "20, 0, 40, -15, 12 -2, 1, -2\n",
    "\n",
    "\n",
    "<img src=\"img/tree-df.png\" width=300>\n",
    "20, 0, 12, -2, 1, 40, -15 -2\n",
    "\n",
    "* 1) Create a node class.  The constructor\n",
    "should accept an argument that gets assigned\n",
    "to the data property and initialize an\n",
    "empty array for storing children. The node\n",
    "class should have methods 'add' and 'remove'.\n",
    "    * add: Given some data, create a new node and add it to the current node's 'children' array\n",
    "    * remove: Given some data, look at each child of the current node and remove any node with data equals data\n",
    "\n",
    "* 2) Create a tree class. The tree constructor\n",
    "    * should initialize a 'root' property to null.\n",
    "    * Implement 'traverseBF' and 'traverseDF' on the tree class.  Each method should accept a function that gets called with each element in the tree\n",
    "    * Hint for BF: use an array to which to add nodes to process"
   ]
  },
  {
   "cell_type": "code",
   "execution_count": 292,
   "metadata": {},
   "outputs": [],
   "source": [
    "class tNode:\n",
    "    data = None\n",
    "    children = []\n",
    "    def __init__(self, data):\n",
    "        self.data = data\n",
    "        self.children = []\n",
    "    \n",
    "    def add(self, data):\n",
    "        self.children.append(tNode(data))\n",
    "    \n",
    "    def remove(self, data):\n",
    "        rarr =[]\n",
    "        for i, d in enumerate(self.children):\n",
    "            if d.data == data:\n",
    "                rarr.append(i)\n",
    "        for i in rarr[::-1]:\n",
    "            self.children.pop(i)"
   ]
  },
  {
   "cell_type": "code",
   "execution_count": 293,
   "metadata": {},
   "outputs": [
    {
     "name": "stdout",
     "output_type": "stream",
     "text": [
      "passed\n"
     ]
    }
   ],
   "source": [
    "node = tNode('a')\n",
    "node.add('b')\n",
    "node.add('c')\n",
    "node.add('b')\n",
    "assert len(node.children) == 3, print('add failed')\n",
    "node.remove('b')\n",
    "assert len(node.children) == 1, print('add failed')\n",
    "print('passed')"
   ]
  },
  {
   "cell_type": "code",
   "execution_count": 304,
   "metadata": {},
   "outputs": [],
   "source": [
    "class Tree:\n",
    "    def __init__(self):\n",
    "        self.root = None\n",
    "        \n",
    "    def traverseBF(self):\n",
    "        arr = []\n",
    "        res = []\n",
    "        arr.append(self.root)\n",
    "        while len(arr):\n",
    "            nd = arr.pop(0)\n",
    "            for d in nd.children:\n",
    "                arr.append(d)\n",
    "            res.append(nd.data)\n",
    "        return res\n",
    "    \n",
    "    def traverseDF(self):\n",
    "        arr = []\n",
    "        res = []\n",
    "        arr.append(self.root)\n",
    "        while len(arr):\n",
    "            nd = arr.pop(0)\n",
    "            childs = []\n",
    "            for d in nd.children:\n",
    "                childs.append(d)\n",
    "            arr = childs + arr\n",
    "            res.append(nd.data)\n",
    "        return res"
   ]
  },
  {
   "cell_type": "code",
   "execution_count": 309,
   "metadata": {},
   "outputs": [
    {
     "name": "stdout",
     "output_type": "stream",
     "text": [
      "BF ['a', 'b', 'c', 'd', 'e']\n",
      "DF ['a', 'b', 'd', 'e', 'c']\n",
      "passed\n"
     ]
    }
   ],
   "source": [
    "node = tNode('a')\n",
    "node.add('b')\n",
    "node.add('c')\n",
    "node.children[0].children.append(tNode('d'))\n",
    "node.children[0].children.append(tNode('e'))\n",
    "tree = Tree()\n",
    "tree.root = node\n",
    "assert tree.traverseBF() == ['a', 'b', 'c', 'd', 'e'], print('BF failed')\n",
    "print('BF', tree.traverseBF())\n",
    "assert tree.traverseDF() == ['a', 'b', 'd', 'e', 'c'], print('DF failed')\n",
    "print('DF', tree.traverseDF())\n",
    "print('passed')"
   ]
  },
  {
   "cell_type": "markdown",
   "metadata": {},
   "source": [
    "# levelwidth\n",
    "```\n",
    "Given the root node of a tree, return\n",
    "an array where each element is a number at each level (width).\n",
    "--- Example\n",
    "\n",
    "Given:\n",
    "    0\n",
    "  / |  \\\n",
    "1   2   3\n",
    "|       |\n",
    "4       5\n",
    "Answer: [1, 3, 2]\n",
    "```\n",
    "<img src=\"img/levelwidth.png\" width=500>"
   ]
  },
  {
   "cell_type": "code",
   "execution_count": 316,
   "metadata": {},
   "outputs": [],
   "source": [
    "def levelwidth(node):\n",
    "    arr = []\n",
    "    res = []\n",
    "    arr.append(node)\n",
    "    arr.append(tNode('s'))\n",
    "    cnt = 0\n",
    "    while len(arr) > 1:\n",
    "        nd = arr.pop(0)\n",
    "        if nd.data == 's':\n",
    "            arr.append(nd)\n",
    "            res.append(cnt)\n",
    "            cnt = 0\n",
    "        else:\n",
    "            cnt += 1\n",
    "            for d in nd.children:\n",
    "                arr.append(d)\n",
    "    res.append(cnt)\n",
    "    return res"
   ]
  },
  {
   "cell_type": "code",
   "execution_count": 317,
   "metadata": {},
   "outputs": [
    {
     "name": "stdout",
     "output_type": "stream",
     "text": [
      "[1, 2, 2]\n"
     ]
    }
   ],
   "source": [
    "node = tNode('a')\n",
    "node.add('b')\n",
    "node.add('c')\n",
    "node.children[0].children.append(tNode('d'))\n",
    "node.children[0].children.append(tNode('e'))\n",
    "assert levelwidth(node) == [1, 2, 2], print('levelwidth failed')\n",
    "print(levelwidth(node))"
   ]
  },
  {
   "cell_type": "code",
   "execution_count": 318,
   "metadata": {},
   "outputs": [
    {
     "data": {
      "text/plain": [
       "[1, 2, 2]"
      ]
     },
     "execution_count": 318,
     "metadata": {},
     "output_type": "execute_result"
    }
   ],
   "source": [
    "levelwidth(node)"
   ]
  },
  {
   "cell_type": "markdown",
   "metadata": {},
   "source": [
    "# Binary Search Tree (Need revisiting)\n",
    "\n",
    "<img src=\"btree.png\" width=370>\n",
    "\n",
    "* 1) Implement the Node class to create a binary search tree.  The constructor should initialize values 'data', 'left', and 'right'.\n",
    "* 2) Implement the 'insert' method for the Node class.  Insert should accept an argument\n",
    "'data', then create an insert a new node\n",
    "at the appropriate location in the tree.\n",
    "    * recursion\n",
    "* 3) Implement the 'contains' method for the Node\n",
    "class.  Contains should accept a 'data' argument\n",
    "and return the Node in the tree with the same value.\n",
    "    * challenge: how to return a node or itself"
   ]
  },
  {
   "cell_type": "code",
   "execution_count": 358,
   "metadata": {},
   "outputs": [],
   "source": [
    "class bNode:\n",
    "    \n",
    "    def __init__(self, data):\n",
    "        self.data = data\n",
    "        self.left = None\n",
    "        self.right = None\n",
    "        \n",
    "    def insert(self, data):\n",
    "        if data < self.data:\n",
    "            if self.left:\n",
    "                self.left.insert(data)\n",
    "            else:\n",
    "                self.left = Node(data)\n",
    "        elif data > self.data:\n",
    "            if self.right:\n",
    "                self.right.insert(data)\n",
    "            else:\n",
    "                self.right = Node(data)\n",
    "                    \n",
    "    def contains(self, data):\n",
    "        if data == self.data:\n",
    "            return self\n",
    "        if data < self.data:\n",
    "            if self.left:\n",
    "                return self.left.contains(data)\n",
    "        else:\n",
    "            if self.right:\n",
    "                return self.right.contains(data)\n",
    "        return None"
   ]
  },
  {
   "cell_type": "code",
   "execution_count": 359,
   "metadata": {},
   "outputs": [
    {
     "name": "stdout",
     "output_type": "stream",
     "text": [
      "passed\n"
     ]
    }
   ],
   "source": [
    "node = bNode(5)\n",
    "node.insert(3)\n",
    "assert node.left.data == 3, print('insert failed')\n",
    "node.insert(8)\n",
    "assert node.right.data == 8, print('insert failed')\n",
    "node.insert(9)\n",
    "assert node.right.right.data == 9, print('insert failed')\n",
    "node.insert(4)\n",
    "assert node.left.right.data == 4, print('insert failed')\n",
    "node.insert(6)\n",
    "assert node.right.left.data == 6, print('insert failed')\n",
    "node.insert(2)\n",
    "assert node.left.left.data == 2, print('insert failed')\n",
    "assert node.contains(3).data == 3, print('contains failed')\n",
    "assert node.contains(1) == None, print('contains failed')\n",
    "print('passed')"
   ]
  },
  {
   "cell_type": "markdown",
   "metadata": {},
   "source": [
    "# BST Validate (Need revisiting)\n",
    "\n",
    "Given a node, validate the binary search tree,\n",
    "ensuring that \n",
    "* every node's left hand child is less than the parent node's value, and that\n",
    "* every node's right hand child is greater than the parent\n",
    "* every node's left child should be greater than its parent's parent node\n",
    "* every node's right child should be less than its parent's parent node\n",
    "\n",
    "Below, the node 15 is incorrectly positioned\n",
    "\n",
    "<img src=\"bst-val.png\" width=370>\n",
    "\n",
    "Our solution is based on two values, min and max. \n",
    "* 1) max and min are set to max and min values. \n",
    "* 2) check the node value with min and max\n",
    "    * if the node value is in between, go to the next\n",
    "    * if it's outside the range, the validation fails\n",
    "* 3) the min and max values are updated with the node value compared\n",
    "    * whenever it goes to the left, the max value is updated\n",
    "    * whenever it goes to the right, the min value is updated\n",
    "* 4) when it reaches to the bottom (None), the validation ends\n",
    "\n",
    "<img src=\"bst-val-sol.png\" width=370>"
   ]
  },
  {
   "cell_type": "code",
   "execution_count": 368,
   "metadata": {},
   "outputs": [],
   "source": [
    "def validate(node, minval, maxval):\n",
    "    if node is None:\n",
    "        return 0\n",
    "    if node.data < maxval and node.data > minval:\n",
    "        res = validate(node.left, minval, node.data)\n",
    "        res += validate(node.right, node.data, maxval)\n",
    "        return res == 0\n",
    "    else:\n",
    "        return 1"
   ]
  },
  {
   "cell_type": "code",
   "execution_count": 369,
   "metadata": {},
   "outputs": [
    {
     "name": "stdout",
     "output_type": "stream",
     "text": [
      "passed\n"
     ]
    }
   ],
   "source": [
    "import sys\n",
    "maxval = sys.maxsize - 1\n",
    "minval = -maxval\n",
    "\n",
    "node = bNode(5)\n",
    "node.insert(3)\n",
    "node.insert(8)\n",
    "node.insert(9)\n",
    "node.insert(4)\n",
    "node.insert(6)\n",
    "node.insert(2)\n",
    "assert validate(node, minval, maxval) == True, print('failed')\n",
    "print('passed')"
   ]
  },
  {
   "cell_type": "markdown",
   "metadata": {},
   "source": [
    "# Sorting\n",
    "\n",
    "<img src=\"img/sorting.png\" width=370>\n",
    "\n",
    "## bubble sort\n",
    "<img src=\"img/bubblesort.png\" width=700>\n",
    "\n",
    "* start from i = 0 and continue i = n-1\n",
    "    * compare i and i+1 and swap if ith value is greater than i+1 th\n",
    "* decrease n by 1 and then repeat until n equals 0\n",
    "\n",
    "## selection sort (prove-me-wrong\n",
    "<img src=\"img/selectionsort.png\" width=700>\n",
    "\n",
    "* start from i = 0 and continue till the oen before the end of the array\n",
    "    * start with j = i + 1 and compare if jth value is smallerthan indexofMin's value, set indexofMin to j\n",
    "    * if indexofMin's value is smaller than ith, swap\n",
    "    \n",
    "## merge sort\n",
    "<img src=\"img/merge_sort.png\" width=700>\n",
    "\n",
    "<img src=\"img/merge.png\" width=700>\n",
    "* take two sorted arrays\n",
    "* continue until any of the two arrays gets empty\n",
    "    * take out one from each array and sort to put them into res\n",
    "    \n",
    "    "
   ]
  },
  {
   "cell_type": "code",
   "execution_count": 388,
   "metadata": {},
   "outputs": [],
   "source": [
    "def bubble_sort(arr):\n",
    "    res = arr.copy()\n",
    "    for i in range(len(res)):\n",
    "        for j in range(len(res) - i-1):\n",
    "            if res[j] > res[j+1]:\n",
    "                tmp = res[j+1]\n",
    "                res[j+1] = res[j]\n",
    "                res[j] = tmp\n",
    "    return res"
   ]
  },
  {
   "cell_type": "code",
   "execution_count": 389,
   "metadata": {},
   "outputs": [],
   "source": [
    "def selection_sort(arr):\n",
    "    res = arr.copy()\n",
    "    indexofMin = 0\n",
    "    for i in range(len(res) - 1):\n",
    "        indexofMin = i\n",
    "        for j in range(i+1, len(res)):\n",
    "            if res[j] < res[indexofMin]:\n",
    "                indexofMin = j\n",
    "        if res[i] > res[indexofMin]:\n",
    "            temp = res[i]\n",
    "            res[i] = res[indexofMin]\n",
    "            res[indexofMin] = temp\n",
    "    return res"
   ]
  },
  {
   "cell_type": "code",
   "execution_count": 392,
   "metadata": {},
   "outputs": [],
   "source": [
    "def merge_sort(arr):\n",
    "    if len(arr) == 1:\n",
    "        return arr\n",
    "    else:\n",
    "        left = merge_sort(arr[:int(len(arr)/2)])\n",
    "        right = merge_sort(arr[int(len(arr)/2):])\n",
    "        return merge(left, right)"
   ]
  },
  {
   "cell_type": "code",
   "execution_count": 395,
   "metadata": {},
   "outputs": [],
   "source": [
    "def merge(left, right):\n",
    "    res = []\n",
    "    lend = len(left)\n",
    "    rend = len(right)\n",
    "    l = 0\n",
    "    r = 0\n",
    "    while (l < lend) and (r < rend):\n",
    "        if left[l] < right[r]:\n",
    "            res.append(left[l])\n",
    "            l += 1\n",
    "        else:\n",
    "            res.append(right[r])\n",
    "            r += 1\n",
    "    for i in range(l, lend):\n",
    "        res.append(left[i])\n",
    "    for i in range(r, rend):\n",
    "        res.append(right[i])\n",
    "        \n",
    "    return res"
   ]
  },
  {
   "cell_type": "code",
   "execution_count": 396,
   "metadata": {},
   "outputs": [],
   "source": [
    "arr = [4,3,6,5,2,7,9,8,1]\n",
    "assert bubble_sort(arr) == [1,2,3,4,5,6,7,8,9], print('bubble sort failed')\n",
    "assert selection_sort(arr) == [1,2,3,4,5,6,7,8,9], print('selection sort failed')\n",
    "assert merge_sort(arr) == [1,2,3,4,5,6,7,8,9], print('selection sort failed')"
   ]
  },
  {
   "cell_type": "code",
   "execution_count": null,
   "metadata": {},
   "outputs": [],
   "source": []
  }
 ],
 "metadata": {
  "kernelspec": {
   "display_name": "Python 3",
   "language": "python",
   "name": "python3"
  },
  "language_info": {
   "codemirror_mode": {
    "name": "ipython",
    "version": 3
   },
   "file_extension": ".py",
   "mimetype": "text/x-python",
   "name": "python",
   "nbconvert_exporter": "python",
   "pygments_lexer": "ipython3",
   "version": "3.7.1"
  }
 },
 "nbformat": 4,
 "nbformat_minor": 2
}
