{
 "cells": [
  {
   "cell_type": "markdown",
   "metadata": {},
   "source": [
    "# reversestring\n",
    "Given a string, return a new string with the reversed\n",
    "\n",
    "Examples\n",
    "* reverse('apple') === 'leppa'\n",
    "* reverse('hello') === 'olleh'\n",
    "* reverse('Greetings!') === '!sgniteerG'"
   ]
  },
  {
   "cell_type": "code",
   "execution_count": 14,
   "metadata": {},
   "outputs": [],
   "source": [
    "def reverse(string):\n",
    "    rev_string =''\n",
    "    for i in range(len(string)-1,-1,-1):\n",
    "        rev_string += string[i]\n",
    "    return rev_string"
   ]
  },
  {
   "cell_type": "code",
   "execution_count": 18,
   "metadata": {},
   "outputs": [
    {
     "name": "stdout",
     "output_type": "stream",
     "text": [
      "elppa\n",
      "olleh\n",
      "!sgniteerG\n"
     ]
    }
   ],
   "source": [
    "print(reverse('apple'))\n",
    "print(reverse('hello'))\n",
    "print(reverse('Greetings!'))"
   ]
  },
  {
   "cell_type": "markdown",
   "metadata": {},
   "source": [
    "# palindrome\n",
    "\n",
    "Given a string, return true if the string is a palindrome\n",
    "or false if it is not.  Palindromes are strings that\n",
    "form the same word if it is reversed. *Do* include spaces\n",
    "and punctuation in determining if the string is a palindrome.\n",
    "\n",
    "Examples:\n",
    "* palindrome(\"abba\") === true\n",
    "* palindrome(\"abcdefg\") === false"
   ]
  },
  {
   "cell_type": "code",
   "execution_count": 19,
   "metadata": {},
   "outputs": [],
   "source": [
    "def palindrome(string):\n",
    "    rev_string = reverse(string)\n",
    "    if rev_string == string:\n",
    "        return True\n",
    "    else:\n",
    "        return False"
   ]
  },
  {
   "cell_type": "code",
   "execution_count": 20,
   "metadata": {},
   "outputs": [
    {
     "name": "stdout",
     "output_type": "stream",
     "text": [
      "passed\n",
      "passed\n"
     ]
    }
   ],
   "source": [
    "assert palindrome(\"abba\") == True, print('failed')\n",
    "print('passed')\n",
    "assert palindrome(\"abcdefg\") == False, print('failed')\n",
    "print('passed')"
   ]
  },
  {
   "cell_type": "markdown",
   "metadata": {},
   "source": [
    "# reverseint\n",
    "\n",
    "Given an integer, return an integer that is the reverse\n",
    "\n",
    "Examples\n",
    "* reverseInt(15) === 51\n",
    "* reverseInt(981) === 189\n",
    "* reverseInt(500) === 5\n",
    "* reverseInt(-15) === -51\n",
    "* reverseInt(-90) === -9"
   ]
  },
  {
   "cell_type": "code",
   "execution_count": 31,
   "metadata": {},
   "outputs": [],
   "source": [
    "def reverseInt(integer):\n",
    "    sign = 1\n",
    "    if integer < 0:\n",
    "        sign *= -1\n",
    "        integer = sign * integer\n",
    "    int_str = str(integer)\n",
    "    rev_int_str = reverse(int_str)\n",
    "    return sign * int(rev_int_str)"
   ]
  },
  {
   "cell_type": "code",
   "execution_count": 32,
   "metadata": {},
   "outputs": [
    {
     "data": {
      "text/plain": [
       "51"
      ]
     },
     "execution_count": 32,
     "metadata": {},
     "output_type": "execute_result"
    }
   ],
   "source": [
    "reverseInt(15)"
   ]
  },
  {
   "cell_type": "code",
   "execution_count": 33,
   "metadata": {},
   "outputs": [
    {
     "name": "stdout",
     "output_type": "stream",
     "text": [
      "passed\n"
     ]
    }
   ],
   "source": [
    "assert reverseInt(15) == 51, print('failed')\n",
    "assert reverseInt(981) == 189, print('failed')\n",
    "assert reverseInt(500) == 5, print('failed')\n",
    "assert reverseInt(-15) == -51, print('failed')\n",
    "assert reverseInt(-90) == -9, print('failed')\n",
    "print('passed')"
   ]
  },
  {
   "cell_type": "markdown",
   "metadata": {},
   "source": [
    "# maxchar\n",
    "\n",
    "Given a string, return the character that is most\n",
    "commonly used in the string.\n",
    "\n",
    "--- Examples\n",
    "* maxChar(\"abcccccccd\") === \"c\"\n",
    "* maxChar(\"apple 1231111\") === \"1\""
   ]
  },
  {
   "cell_type": "code",
   "execution_count": 38,
   "metadata": {},
   "outputs": [],
   "source": [
    "def maxChar(string):\n",
    "    arr = list(string)\n",
    "    unique = set(arr)\n",
    "    max_e = ''\n",
    "    max_c = 0\n",
    "    for e in unique:\n",
    "        char_c = 0\n",
    "        for i in range(len(arr)):\n",
    "            if e == arr[i]:\n",
    "                char_c += 1\n",
    "        if char_c > max_c:\n",
    "            max_c = char_c\n",
    "            max_e = e\n",
    "            \n",
    "    return max_e"
   ]
  },
  {
   "cell_type": "code",
   "execution_count": 48,
   "metadata": {},
   "outputs": [],
   "source": [
    "from collections import defaultdict\n",
    "def maxChar2(string):\n",
    "    count_dic = defaultdict(int)\n",
    "    for c in list(string):\n",
    "        count_dic[c] += 1\n",
    "    return max(count_dic, key=count_dic.get)"
   ]
  },
  {
   "cell_type": "code",
   "execution_count": 49,
   "metadata": {},
   "outputs": [
    {
     "name": "stdout",
     "output_type": "stream",
     "text": [
      "passed\n"
     ]
    }
   ],
   "source": [
    "assert maxChar2('abccccccd') == 'c', print('failed')\n",
    "assert maxChar2('apple 1231111') == '1', print('failed')\n",
    "print('passed')"
   ]
  },
  {
   "cell_type": "markdown",
   "metadata": {},
   "source": [
    "# fizzbuzz\n",
    "\n",
    "Write a program that console logs the numbers\n",
    "from 1 to n. But for multiples of three print\n",
    "“fizz” instead of the number and for the multiples\n",
    "of five print “buzz”. For numbers which are multiples\n",
    "of both three and five print “fizzbuzz”.\n",
    "\n",
    "--- Example\n",
    "  fizzBuzz(5);\n",
    "  \n",
    "  1\n",
    "  \n",
    "  2\n",
    "  \n",
    "  fizz\n",
    "  \n",
    "  4\n",
    "  \n",
    "  buzz"
   ]
  },
  {
   "cell_type": "code",
   "execution_count": 59,
   "metadata": {},
   "outputs": [],
   "source": [
    "def fizzbuzz(integer):\n",
    "    for i in range(1,integer+1):\n",
    "        if (i % 15) == 0:\n",
    "            print('fizzbuzz')\n",
    "        elif (i % 3) == 0:\n",
    "            print('fizz')\n",
    "        elif (i % 5) == 0:\n",
    "            print('buzz')\n",
    "        else:\n",
    "            print(i)"
   ]
  },
  {
   "cell_type": "code",
   "execution_count": 61,
   "metadata": {},
   "outputs": [
    {
     "name": "stdout",
     "output_type": "stream",
     "text": [
      "1\n",
      "2\n",
      "fizz\n",
      "4\n",
      "buzz\n",
      "fizz\n",
      "7\n",
      "8\n",
      "fizz\n",
      "buzz\n",
      "11\n",
      "fizz\n",
      "13\n",
      "14\n",
      "fizzbuzz\n"
     ]
    }
   ],
   "source": [
    "fizzbuzz(15)"
   ]
  },
  {
   "cell_type": "markdown",
   "metadata": {},
   "source": [
    "# chunk\n",
    "\n",
    "Given an array and chunk size, divide the array into many subarrays\n",
    "where each subarray is of length size\n",
    "\n",
    "--- Examples\n",
    "* chunk([1, 2, 3, 4], 2) --> [[ 1, 2], [3, 4]]\n",
    "* chunk([1, 2, 3, 4, 5], 2) --> [[ 1, 2], [3, 4], [5]]\n",
    "* chunk([1, 2, 3, 4, 5, 6, 7, 8], 3) --> [[ 1, 2, 3], [4, 5, 6], [7, 8]]\n",
    "* chunk([1, 2, 3, 4, 5], 4) --> [[ 1, 2, 3, 4], [5]]\n",
    "* chunk([1, 2, 3, 4, 5], 10) --> [[ 1, 2, 3, 4, 5]]"
   ]
  },
  {
   "cell_type": "code",
   "execution_count": 62,
   "metadata": {},
   "outputs": [],
   "source": [
    "def chunk(arr, num):\n",
    "    arrlist = []\n",
    "    for i in range(0,len(arr),num):\n",
    "        arrlist.append(arr[i:i+num])\n",
    "    return arrlist"
   ]
  },
  {
   "cell_type": "code",
   "execution_count": 64,
   "metadata": {},
   "outputs": [
    {
     "name": "stdout",
     "output_type": "stream",
     "text": [
      "passed\n"
     ]
    }
   ],
   "source": [
    "assert chunk([1, 2, 3, 4], 2) == [[ 1, 2], [3, 4]], print('failed')\n",
    "assert chunk([1, 2, 3, 4, 5], 2) == [[ 1, 2], [3, 4], [5]], print('failed')\n",
    "assert chunk([1, 2, 3, 4, 5, 6, 7, 8], 3) == [[ 1, 2, 3], [4, 5, 6], [7, 8]], print('failed')\n",
    "assert chunk([1, 2, 3, 4, 5], 4) == [[ 1, 2, 3, 4], [5]], print('failed')\n",
    "assert chunk([1, 2, 3, 4, 5], 10) == [[ 1, 2, 3, 4, 5]], print('failed')\n",
    "print('passed')"
   ]
  },
  {
   "cell_type": "markdown",
   "metadata": {},
   "source": [
    "# anagrams\n",
    "Check to see if two provided strings are anagrams of eachother.\n",
    "One string is an anagram of another if it uses the same characters\n",
    "in the same quantity. Only consider characters, not spaces\n",
    "or punctuation.  Consider capital letters to be the same as lower case\n",
    "\n",
    "--- Examples\n",
    "* anagrams('rail safety', 'fairy tales') --> True\n",
    "* anagrams('RAIL! SAFETY!', 'fairy tales') --> True\n",
    "* anagrams('Hi there', 'Bye there') --> False"
   ]
  },
  {
   "cell_type": "code",
   "execution_count": 16,
   "metadata": {},
   "outputs": [],
   "source": [
    "def make_bow(string):\n",
    "    from collections import defaultdict\n",
    "    count_dic = defaultdict(int)\n",
    "    for c in list(string):\n",
    "        count_dic[c] += 1\n",
    "    return count_dic"
   ]
  },
  {
   "cell_type": "code",
   "execution_count": 19,
   "metadata": {},
   "outputs": [],
   "source": [
    "def anagrams(str1, str2):\n",
    "    import re\n",
    "    mystr1 = re.sub('[^\\w \\n\\.]', '', str1).lower()\n",
    "    mystr2 = re.sub('[^\\w \\n\\./g]', '', str2).lower()\n",
    "    bow1 = make_bow(mystr1)\n",
    "    bow2 = make_bow(mystr2)\n",
    "    return bow1 == bow2"
   ]
  },
  {
   "cell_type": "code",
   "execution_count": 21,
   "metadata": {},
   "outputs": [
    {
     "name": "stdout",
     "output_type": "stream",
     "text": [
      "passed\n"
     ]
    }
   ],
   "source": [
    "assert anagrams('rail safety', 'fairy tales') == True, print('failed')\n",
    "assert anagrams('RAIL! SAFETY!', 'fairy tales') == True, print('failed')\n",
    "assert anagrams('Hi there', 'Bye there') == False, print('failed')\n",
    "print('passed')"
   ]
  },
  {
   "cell_type": "markdown",
   "metadata": {},
   "source": [
    "# capitalize\n",
    "\n",
    "Write a function that accepts a string.  The function should\n",
    "capitalize the first letter of each word in the string then\n",
    "return the capitalized string.\n",
    "\n",
    "--- Examples\n",
    "* capitalize('a short sentence') --> 'A Short Sentence'\n",
    "* capitalize('a lazy fox') --> 'A Lazy Fox'\n",
    "* capitalize('look, it is working!') --> 'Look, It Is Working!'\n"
   ]
  },
  {
   "cell_type": "code",
   "execution_count": 28,
   "metadata": {},
   "outputs": [],
   "source": [
    "def capitalize(string):\n",
    "    strings = string.split(' ')\n",
    "    result = ''\n",
    "    for inx, st in enumerate(strings):\n",
    "        result = result + st[0].upper() + st[1:] + ' '\n",
    "    return result[:-1]"
   ]
  },
  {
   "cell_type": "code",
   "execution_count": 30,
   "metadata": {},
   "outputs": [
    {
     "name": "stdout",
     "output_type": "stream",
     "text": [
      "passed\n"
     ]
    }
   ],
   "source": [
    "assert capitalize('a short sentence') == 'A Short Sentence', print('failed')\n",
    "assert capitalize('a lazy fox') == 'A Lazy Fox', print('failed')\n",
    "assert capitalize('look, it is working!') == 'Look, It Is Working!', print('failed')\n",
    "print('passed')"
   ]
  },
  {
   "cell_type": "markdown",
   "metadata": {},
   "source": [
    "# steps\n",
    "\n",
    "Write a function that accepts a positive number N.\n",
    "The function should console log a step shape\n",
    "with N levels using the # character.  Make sure the\n",
    "step has spaces on the right hand side!\n",
    "\n",
    "Examples\n",
    "* steps(2)\n",
    "*     '# '\n",
    "*     '##'\n",
    "* steps(3)\n",
    "*     '#  '\n",
    "*     '## '\n",
    "*     '###'\n",
    "* steps(4)\n",
    "*     '#   '\n",
    "*     '##  '\n",
    "*     '### '\n",
    "*     '####'"
   ]
  },
  {
   "cell_type": "code",
   "execution_count": 32,
   "metadata": {},
   "outputs": [],
   "source": [
    "def steps(num):\n",
    "    result = ''\n",
    "    sharp = ''\n",
    "    for i in range(num):\n",
    "        sharp += '#'\n",
    "        result = sharp\n",
    "        for j in range(i+1,num):\n",
    "            result += ' '\n",
    "        print('\\''+result+'\\'')"
   ]
  },
  {
   "cell_type": "code",
   "execution_count": 36,
   "metadata": {},
   "outputs": [
    {
     "name": "stdout",
     "output_type": "stream",
     "text": [
      "'# '\n",
      "'##'\n"
     ]
    }
   ],
   "source": [
    "steps(2)"
   ]
  },
  {
   "cell_type": "code",
   "execution_count": 37,
   "metadata": {},
   "outputs": [
    {
     "name": "stdout",
     "output_type": "stream",
     "text": [
      "'#  '\n",
      "'## '\n",
      "'###'\n"
     ]
    }
   ],
   "source": [
    "steps(3)"
   ]
  },
  {
   "cell_type": "code",
   "execution_count": 38,
   "metadata": {},
   "outputs": [
    {
     "name": "stdout",
     "output_type": "stream",
     "text": [
      "'#   '\n",
      "'##  '\n",
      "'### '\n",
      "'####'\n"
     ]
    }
   ],
   "source": [
    "steps(4)"
   ]
  },
  {
   "cell_type": "code",
   "execution_count": 56,
   "metadata": {},
   "outputs": [],
   "source": [
    "def recursive_steps(num, tot):\n",
    "    if num == 0:\n",
    "        return\n",
    "    else:\n",
    "        recursive_steps(num-1, tot)\n",
    "        res = '#' * num + ' ' * (tot - num)\n",
    "        print('\\''+res+'\\'')"
   ]
  },
  {
   "cell_type": "code",
   "execution_count": 57,
   "metadata": {},
   "outputs": [
    {
     "name": "stdout",
     "output_type": "stream",
     "text": [
      "'# '\n",
      "'##'\n"
     ]
    }
   ],
   "source": [
    "recursive_steps(2, 2)"
   ]
  },
  {
   "cell_type": "markdown",
   "metadata": {},
   "source": [
    "# pyramid\n",
    "Write a function that accepts a positive number N.\n",
    "The function should console log a pyramid shape\n",
    "with N levels using the # character.  Make sure the\n",
    "pyramid has spaces on both the left *and* right hand sides\n",
    "\n",
    "Examples\n",
    "* pyramid(1)\n",
    "*     '#'\n",
    "* pyramid(2)\n",
    "*     ' # '\n",
    "*     '###'\n",
    "* pyramid(3)\n",
    "*     '  #  '\n",
    "*     ' ### '\n",
    "*     '#####'"
   ]
  },
  {
   "cell_type": "code",
   "execution_count": 69,
   "metadata": {},
   "outputs": [],
   "source": [
    "def pyramid(num):\n",
    "    tot = 2 * num - 1\n",
    "    result = ''\n",
    "    sharp = ''\n",
    "    for i in range(1, num+1):\n",
    "        res = ' ' * int((tot - (2 * i - 1))/2)\n",
    "        res += '#' * (2 * i - 1)\n",
    "        res += ' ' * int((tot - (2 * i - 1))/2)\n",
    "        print('\\''+res+'\\'')    "
   ]
  },
  {
   "cell_type": "code",
   "execution_count": 70,
   "metadata": {},
   "outputs": [
    {
     "name": "stdout",
     "output_type": "stream",
     "text": [
      "'#'\n"
     ]
    }
   ],
   "source": [
    "pyramid(1)"
   ]
  },
  {
   "cell_type": "code",
   "execution_count": 71,
   "metadata": {},
   "outputs": [
    {
     "name": "stdout",
     "output_type": "stream",
     "text": [
      "' # '\n",
      "'###'\n"
     ]
    }
   ],
   "source": [
    "pyramid(2)"
   ]
  },
  {
   "cell_type": "code",
   "execution_count": 72,
   "metadata": {},
   "outputs": [
    {
     "name": "stdout",
     "output_type": "stream",
     "text": [
      "'  #  '\n",
      "' ### '\n",
      "'#####'\n"
     ]
    }
   ],
   "source": [
    "pyramid(3)"
   ]
  },
  {
   "cell_type": "markdown",
   "metadata": {},
   "source": [
    "# vowels\n",
    "\n",
    "Write a function that returns the number of vowels\n",
    "used in a string.  Vowels are the characters 'a', 'e'\n",
    "'i', 'o', and 'u'.\n",
    "\n",
    "Examples\n",
    "* vowels('Hi There!') --> 3\n",
    "* vowels('Why do you ask?') --> 4\n",
    "* vowels('Why?') --> 0"
   ]
  },
  {
   "cell_type": "code",
   "execution_count": 81,
   "metadata": {},
   "outputs": [],
   "source": [
    "def vowels(string):\n",
    "    from collections import defaultdict\n",
    "    bow = defaultdict(int)\n",
    "    for i in list(string):\n",
    "        if i in ['a', 'e', 'i', 'o', 'u']:\n",
    "            bow[i] += 1\n",
    "    return sum(bow.values())"
   ]
  },
  {
   "cell_type": "code",
   "execution_count": 82,
   "metadata": {},
   "outputs": [
    {
     "name": "stdout",
     "output_type": "stream",
     "text": [
      "passed\n"
     ]
    }
   ],
   "source": [
    "assert vowels('Hi There!') == 3, print('failed')\n",
    "assert vowels('Why do you ask?') == 4, print('failed')\n",
    "assert vowels('Why?') == 0, print('failed')\n",
    "print('passed')"
   ]
  },
  {
   "cell_type": "markdown",
   "metadata": {},
   "source": [
    "# matrix\n",
    "Write a function that accepts an integer N\n",
    "and returns a NxN spiral matrix.\n",
    "\n",
    "Examples\n",
    "* matrix(2)\n",
    "    [[1, 2],\n",
    "    [4, 3]]\n",
    "* matrix(3)\n",
    "    [[1, 2, 3],\n",
    "    [8, 9, 4],\n",
    "    [7, 6, 5]]\n",
    "* matrix(4)\n",
    "    [[1,   2,  3, 4],\n",
    "    [12, 13, 14, 5],\n",
    "    [11, 16, 15, 6],\n",
    "    [10,  9,  8, 7]]"
   ]
  },
  {
   "cell_type": "code",
   "execution_count": 96,
   "metadata": {},
   "outputs": [],
   "source": [
    "def matrix(num):\n",
    "    res = []\n",
    "    for i in range(num):\n",
    "        res.append([0]*num)\n",
    "    srow = 0\n",
    "    erow = num - 1\n",
    "    scol = 0\n",
    "    ecol = num - 1\n",
    "    \n",
    "    counter = 1\n",
    "\n",
    "    while erow >= srow or ecol >= scol:\n",
    "        for c in range(scol, ecol+1):\n",
    "            res[srow][c] = counter\n",
    "            counter += 1\n",
    "        srow += 1\n",
    "        for rd in range(srow, erow+1):\n",
    "            res[rd][ecol] = counter\n",
    "            counter += 1\n",
    "        ecol -= 1\n",
    "        for cl in range(ecol, scol-1, -1):\n",
    "            res[erow][cl] = counter\n",
    "            counter += 1\n",
    "        erow -= 1\n",
    "        for ru in range(erow, srow-1, -1):\n",
    "            res[ru][scol] = counter\n",
    "            counter += 1\n",
    "        scol += 1\n",
    "        \n",
    "    return res"
   ]
  },
  {
   "cell_type": "code",
   "execution_count": 99,
   "metadata": {},
   "outputs": [
    {
     "name": "stdout",
     "output_type": "stream",
     "text": [
      "passed\n"
     ]
    }
   ],
   "source": [
    "assert matrix(2) == [[1, 2], [4, 3]], print('failed')\n",
    "assert matrix(3) == [[1, 2, 3], [8, 9, 4], [7, 6, 5]], print('failed')\n",
    "assert matrix(4) == [[1, 2, 3, 4], [12, 13, 14, 5], [11, 16, 15, 6], [10, 9, 8, 7]], print('failed')\n",
    "print('passed')"
   ]
  },
  {
   "cell_type": "markdown",
   "metadata": {},
   "source": [
    "# fib\n",
    "Print out the n-th entry in the fibonacci series.\n",
    "The fibonacci series is an ordering of numbers where\n",
    "each number is the sum of the preceeding two.\n",
    "\n",
    "For example, the sequence\n",
    "\n",
    " [0, 1, 1, 2, 3, 5, 8, 13, 21, 34]\n",
    " \n",
    "forms the first ten entries of the fibonacci series.\n",
    "\n",
    "Example:\n",
    "\n",
    "  fib(4) === 3"
   ]
  },
  {
   "cell_type": "code",
   "execution_count": 120,
   "metadata": {},
   "outputs": [],
   "source": [
    "def rfib(num):\n",
    "    if num == 0:\n",
    "        return 0\n",
    "    elif num == 1:\n",
    "        return 1\n",
    "    else:\n",
    "        return rfib(num-1) + rfib(num-2)"
   ]
  },
  {
   "cell_type": "code",
   "execution_count": 121,
   "metadata": {},
   "outputs": [
    {
     "name": "stdout",
     "output_type": "stream",
     "text": [
      "passed\n"
     ]
    }
   ],
   "source": [
    "assert rfib(4) == 3, print('failed')\n",
    "assert rfib(9) == 34, print('failed')\n",
    "print('passed')"
   ]
  },
  {
   "cell_type": "code",
   "execution_count": 122,
   "metadata": {},
   "outputs": [],
   "source": [
    "def fib(num):\n",
    "    res = [0, 1]\n",
    "    for i in range(2, num+1):\n",
    "        res.append(res[i-1]+res[i-2])\n",
    "    return res[-1]"
   ]
  },
  {
   "cell_type": "code",
   "execution_count": 123,
   "metadata": {},
   "outputs": [
    {
     "name": "stdout",
     "output_type": "stream",
     "text": [
      "passed\n"
     ]
    }
   ],
   "source": [
    "assert fib(4) == 3, print('failed')\n",
    "assert fib(9) == 34, print('failed')\n",
    "print('passed')"
   ]
  },
  {
   "cell_type": "code",
   "execution_count": 124,
   "metadata": {},
   "outputs": [
    {
     "data": {
      "text/plain": [
       "3"
      ]
     },
     "execution_count": 124,
     "metadata": {},
     "output_type": "execute_result"
    }
   ],
   "source": [
    "fib(4)"
   ]
  },
  {
   "cell_type": "markdown",
   "metadata": {},
   "source": [
    "# runtime complexity\n",
    "\n",
    "* O(1): constant runtime complexity\n",
    "* O(n): linear runtime complexity\n",
    "* O(nlogn): quasilinear runtime complexity\n",
    "* O(n^2): quadratic runtime complexity\n",
    "* O(x^n): exponential runtime complexity"
   ]
  },
  {
   "cell_type": "markdown",
   "metadata": {},
   "source": [
    "# queue\n",
    "\n",
    "Create a queue data structure.  The queue\n",
    "should be a class with methods 'add' and 'remove'.\n",
    "Adding to the queue should store an element until\n",
    "it is removed\n",
    "\n",
    "Examples\n",
    "```python\n",
    "    q = Queue()\n",
    "    q.add(1)\n",
    "    q.add(2)\n",
    "    q.remove() // returns 1;\n",
    "```"
   ]
  },
  {
   "cell_type": "code",
   "execution_count": 203,
   "metadata": {},
   "outputs": [],
   "source": [
    "class Queue:\n",
    "    Arr = []\n",
    "    def __init__(self):\n",
    "        self.Arr = []\n",
    "    def add(self, el):\n",
    "        self.Arr.append(el)\n",
    "    def remove(self):\n",
    "        if len(self.Arr) > 0:\n",
    "            return self.Arr.pop(0)\n",
    "        else:\n",
    "            return None"
   ]
  },
  {
   "cell_type": "code",
   "execution_count": 204,
   "metadata": {},
   "outputs": [
    {
     "data": {
      "text/plain": [
       "1"
      ]
     },
     "execution_count": 204,
     "metadata": {},
     "output_type": "execute_result"
    }
   ],
   "source": [
    "q = Queue()\n",
    "q.add(1)\n",
    "q.add(2)\n",
    "q.remove()"
   ]
  },
  {
   "cell_type": "code",
   "execution_count": 205,
   "metadata": {},
   "outputs": [
    {
     "data": {
      "text/plain": [
       "2"
      ]
     },
     "execution_count": 205,
     "metadata": {},
     "output_type": "execute_result"
    }
   ],
   "source": [
    "q.remove()"
   ]
  },
  {
   "cell_type": "markdown",
   "metadata": {},
   "source": [
    "# weave\n",
    "receives two queues as arguments and combines the\n",
    "contents of each into a new, third queue.\n",
    "The third queue should contain the *alterating* content\n",
    "of the two queues.  The function should handle\n",
    "queues of different lengths without inserting\n",
    "'undefined' into the new one.\n",
    "*Do not* access the array inside of any queue, only\n",
    "use the 'add', 'remove', and 'peek' functions.\n",
    "\n",
    "Example\n",
    "```js\n",
    "   const queueOne = new Queue();\n",
    "   queueOne.add(1);\n",
    "   queueOne.add(2);\n",
    "   const queueTwo = new Queue();\n",
    "   queueTwo.add('Hi');\n",
    "   queueTwo.add('There');\n",
    "   const q = weave(queueOne, queueTwo);\n",
    "   q.remove() // 1\n",
    "   q.remove() // 'Hi'\n",
    "   q.remove() // 2\n",
    "   q.remove() // 'There'\n",
    "```"
   ]
  },
  {
   "cell_type": "code",
   "execution_count": 211,
   "metadata": {},
   "outputs": [],
   "source": [
    "class weave:\n",
    "    Arr = []\n",
    "    def __init__(self, obj1, obj2):\n",
    "        self.Arr = []\n",
    "        o1 = obj1.remove()\n",
    "        while o1:\n",
    "            # print(o1)\n",
    "            self.Arr.append(o1)\n",
    "            o2 = obj2.remove()\n",
    "            # print(o2)\n",
    "            if o2:\n",
    "                self.Arr.append(o2)\n",
    "            o1 = obj1.remove()\n",
    "        o2 = obj2.remove()\n",
    "        while o2:\n",
    "            self.Arr.append(o2)\n",
    "    def remove(self):\n",
    "        return self.Arr.pop(0)"
   ]
  },
  {
   "cell_type": "code",
   "execution_count": 212,
   "metadata": {},
   "outputs": [
    {
     "name": "stdout",
     "output_type": "stream",
     "text": [
      "passed\n"
     ]
    }
   ],
   "source": [
    "queueOne = Queue()\n",
    "queueOne.add(1)\n",
    "queueOne.add(2)\n",
    "queueTwo = Queue()\n",
    "queueTwo.add('Hi')\n",
    "queueTwo.add('There')\n",
    "q = weave(queueOne, queueTwo)\n",
    "assert q.remove() == 1, print('failed')\n",
    "assert q.remove() == 'Hi', print('failed')\n",
    "assert q.remove() == 2, print('failed')\n",
    "assert q.remove() == 'There', print('failed')\n",
    "print('passed')"
   ]
  },
  {
   "cell_type": "markdown",
   "metadata": {},
   "source": [
    "# Stack\n",
    "\n",
    "Create a stack data structure.  The stack\n",
    "should be a class with methods 'push', 'pop', and\n",
    "'peek'.  Adding an element to the stack should\n",
    "store it until it is removed.\n",
    "\n",
    "Examples\n",
    "```js\n",
    "  const s = new Stack();\n",
    "  s.push(1);\n",
    "  s.push(2);\n",
    "  s.pop(); // returns 2\n",
    "  s.pop(); // returns 1\n",
    "```"
   ]
  },
  {
   "cell_type": "code",
   "execution_count": 215,
   "metadata": {},
   "outputs": [],
   "source": [
    "class Stack:\n",
    "    Arr = []\n",
    "    def __init__(self):\n",
    "        self.Arr = []\n",
    "    def push(self, el):\n",
    "        self.Arr.append(el)\n",
    "    def pop(self):\n",
    "        if len(self.Arr) > 0:\n",
    "            return self.Arr.pop(len(self.Arr)-1)\n",
    "        else:\n",
    "            return None"
   ]
  },
  {
   "cell_type": "code",
   "execution_count": 216,
   "metadata": {},
   "outputs": [
    {
     "name": "stdout",
     "output_type": "stream",
     "text": [
      "passed\n"
     ]
    }
   ],
   "source": [
    "s = Stack()\n",
    "s.push(1)\n",
    "s.push(2)\n",
    "assert s.pop() == 2, print('failed')\n",
    "assert s.pop() == 1, print('failed')\n",
    "print('passed')"
   ]
  },
  {
   "cell_type": "markdown",
   "metadata": {},
   "source": [
    "# qfroms\n",
    "\n",
    "Implement a Queue datastructure using two stacks.\n",
    "*Do not* create an array inside of the 'Queue' class.\n",
    "Queue should implement the methods 'add', 'remove', and 'peek'.\n",
    "For a reminder on what each method does, look back\n",
    "at the Queue exercise.\n",
    "\n",
    "Examples\n",
    "```js\n",
    "    const q = new QueueS();\n",
    "    q.add(1);\n",
    "    q.add(2);\n",
    "    q.peek();  // returns 1\n",
    "    q.remove(); // returns 1\n",
    "    q.remove(); // returns 2\n",
    "```"
   ]
  },
  {
   "cell_type": "code",
   "execution_count": 219,
   "metadata": {},
   "outputs": [],
   "source": [
    "class QueueS:\n",
    "    def __init__(self):\n",
    "        self.s1 = Stack()\n",
    "        self.s2 = Stack()\n",
    "    def add(self, el):\n",
    "        self.s1.push(el)\n",
    "    def peek(self):\n",
    "        last = 0\n",
    "        val = self.s1.pop()\n",
    "        while val:\n",
    "            last = val\n",
    "            self.s2.push(val)\n",
    "            val = self.s1.pop()\n",
    "        return last\n",
    "    def remove(self):\n",
    "        return self.s2.pop()"
   ]
  },
  {
   "cell_type": "code",
   "execution_count": 220,
   "metadata": {},
   "outputs": [
    {
     "name": "stdout",
     "output_type": "stream",
     "text": [
      "passed\n"
     ]
    }
   ],
   "source": [
    "q = QueueS()\n",
    "q.add(1)\n",
    "q.add(2)\n",
    "assert q.peek() == 1, print('failed')\n",
    "assert q.remove() == 1, print('failed')\n",
    "assert q.remove() == 2, print('failed')\n",
    "print('passed')"
   ]
  },
  {
   "cell_type": "markdown",
   "metadata": {},
   "source": [
    "# Node\n",
    "\n",
    "Creates a class instance to represent a node. The node should have two properties, 'data' and 'next'. Accept both of these as arguments to the 'Node' constructor, then assign them to the instance as properties 'data' and 'next'. If 'next' is not provided to the constructor, then default its value to be 'null'.\n",
    "\n",
    "Example\n",
    "```js\n",
    "const n = new Node('There');\n",
    "n.data // 'There'\n",
    "n.next // null\n",
    "const n2 = new Node('Hi', n);\n",
    "n2.next // returns n\n",
    "```"
   ]
  },
  {
   "cell_type": "code",
   "execution_count": 224,
   "metadata": {},
   "outputs": [],
   "source": [
    "class Node:\n",
    "    data = []\n",
    "    nxt = None\n",
    "    def __init__(self, node, n=None):\n",
    "        self.data = node\n",
    "        self.nxt = n"
   ]
  },
  {
   "cell_type": "code",
   "execution_count": 226,
   "metadata": {},
   "outputs": [
    {
     "name": "stdout",
     "output_type": "stream",
     "text": [
      "passed\n"
     ]
    }
   ],
   "source": [
    "n = Node('There')\n",
    "assert n.data == 'There', print('failed')\n",
    "assert n.nxt == None, print('failed')\n",
    "n2 = Node('Hi', n)\n",
    "assert n2.nxt == n, print('failed')\n",
    "print('passed')"
   ]
  },
  {
   "cell_type": "markdown",
   "metadata": {},
   "source": [
    "# LinkedList\n",
    "\n",
    "constructor: Create a class to represent a linked list. When created, a linked list should have *no* head node associated with it. The LinkedList instance will have one property, 'head', which is a reference to the first node of the linked list. By default 'head' should be 'null'.\n",
    "\n",
    "```js\n",
    "const list = new LinkedList();\n",
    "list.head // null\n",
    "```\n",
    "\n",
    "insertFirst: Creates a new Node from argument 'data' and assigns the resulting node to the 'head' property. Make sure to handle the case in which the linked list already has a node assigned to the 'head' property.\n",
    "\n",
    "```js\n",
    "const list = new LinkedList();\n",
    "list.insertFirst('Hi There'); // List has one node\n",
    "```\n",
    "\n",
    "size: Returns the number of nodes in the linked list.\n",
    "\n",
    "```js\n",
    "const list = new LinkedList();\n",
    "list.insertFirst('a');\n",
    "list.insertFirst('b');\n",
    "list.insertFirst('c');\n",
    "list.size(); // returns 3\n",
    "```\n",
    "\n",
    "getFirst: Returns the first node of the linked list.\n",
    "```js\n",
    "const list = new LinkedList();\n",
    "list.insertFirst('a');\n",
    "list.insertFirst('b');\n",
    "list.getFirst(); // returns Node instance with data 'a'\n",
    "```"
   ]
  },
  {
   "cell_type": "code",
   "execution_count": 248,
   "metadata": {},
   "outputs": [],
   "source": [
    "class LinkedList:\n",
    "    head = None\n",
    "    \n",
    "    def __init__(self):\n",
    "        self.head = None\n",
    "    def insertFirst(self, data):\n",
    "        node = Node(data)\n",
    "        if self.head == None:\n",
    "            self.head = node\n",
    "        else:\n",
    "            node.nxt = self.head\n",
    "            self.head = node\n",
    "    def size(self):\n",
    "        count = 0\n",
    "        ptr = self.head\n",
    "        while ptr:\n",
    "            count += 1\n",
    "            ptr = ptr.nxt\n",
    "        return count\n",
    "\n",
    "    def getLast(self):\n",
    "        ptr = self.head\n",
    "        l = self.size()\n",
    "        if l > 1:\n",
    "            for i in range(l-1):\n",
    "                ptr = ptr.nxt\n",
    "        return ptr.data\n",
    "    \n",
    "    def getFirst(self):\n",
    "        return self.head.data\n",
    "    \n",
    "    def clear(self):\n",
    "        self.head = None\n",
    "        \n",
    "    def removeLast(self):\n",
    "        ptr = self.head\n",
    "        for i in range(self.size()-2):\n",
    "            ptr = ptr.nxt\n",
    "        ptr.nxt = None\n",
    "    \n",
    "    def removeFirst(self):\n",
    "        ptr = self.head.nxt\n",
    "        self.head.nxt = None\n",
    "        self.head = ptr\n",
    "        \n",
    "    def insertLast(self, data):\n",
    "        ptr = self.head\n",
    "        for i in range(self.size()-1):\n",
    "            ptr = ptr.nxt\n",
    "        ptr.nxt = Node(data)\n",
    "        \n",
    "    def getAt(self, idx):\n",
    "        ptr = self.head\n",
    "        if idx < self.size():\n",
    "            for i in range(idx):\n",
    "                ptr = ptr.nxt\n",
    "            return ptr.data\n",
    "            \n",
    "    \n",
    "    def removeAt(self, idx):\n",
    "        ptr = self.head\n",
    "        if idx == 0:\n",
    "            self.head = self.head.nxt\n",
    "            ptr.nxt = None\n",
    "        else:\n",
    "            pre_ptr = ptr\n",
    "            for i in range(idx):\n",
    "                pre_ptr = ptr\n",
    "                ptr = ptr.nxt\n",
    "            pre_ptr.nxt = ptr.nxt\n",
    "            ptr.nxt = None\n",
    "    \n",
    "    def insertAt(self, data, idx):\n",
    "        ptr = self.head\n",
    "        if idx == 0:\n",
    "            self.insertFirst(data)\n",
    "        else:\n",
    "            pre_ptr = ptr\n",
    "            for i in range(idx):\n",
    "                pre_ptr = ptr\n",
    "                ptr = ptr.nxt\n",
    "            pre_ptr.nxt = Node(data, ptr)"
   ]
  },
  {
   "cell_type": "code",
   "execution_count": 251,
   "metadata": {},
   "outputs": [
    {
     "name": "stdout",
     "output_type": "stream",
     "text": [
      "All passed\n"
     ]
    }
   ],
   "source": [
    "list = LinkedList()\n",
    "assert list.head == None, print('create failed')\n",
    "list.insertFirst('a')\n",
    "list.insertFirst('b')\n",
    "list.insertFirst('c')\n",
    "assert list.size() == 3, print('size failed')\n",
    "assert list.getFirst() == 'c', print('getFirst failed')\n",
    "assert list.getLast() == 'a', print('getLast failed')\n",
    "list.clear()\n",
    "assert list.size() == 0, print('clear failed')\n",
    "list.insertFirst('a')\n",
    "list.insertFirst('b')\n",
    "list.removeFirst()\n",
    "assert list.getFirst() == 'a', print('removeFirst failed')\n",
    "list.insertFirst('c')\n",
    "list.removeLast()\n",
    "assert list.size() == 1, print('removeLast failed')\n",
    "assert list.getAt(0) == 'c', print('getAt failed')\n",
    "list.removeAt(0)\n",
    "list.insertFirst('a')\n",
    "list.insertLast('b')\n",
    "assert list.getAt(1) == 'b', print('removeAt failed')\n",
    "list.insertAt('Hi', 1)\n",
    "assert list.getAt(1) == 'Hi', print('insertAt failed')\n",
    "print('All passed')"
   ]
  },
  {
   "cell_type": "code",
   "execution_count": 231,
   "metadata": {},
   "outputs": [],
   "source": []
  },
  {
   "cell_type": "code",
   "execution_count": null,
   "metadata": {},
   "outputs": [],
   "source": []
  }
 ],
 "metadata": {
  "kernelspec": {
   "display_name": "Python 3",
   "language": "python",
   "name": "python3"
  },
  "language_info": {
   "codemirror_mode": {
    "name": "ipython",
    "version": 3
   },
   "file_extension": ".py",
   "mimetype": "text/x-python",
   "name": "python",
   "nbconvert_exporter": "python",
   "pygments_lexer": "ipython3",
   "version": "3.7.1"
  }
 },
 "nbformat": 4,
 "nbformat_minor": 2
}
